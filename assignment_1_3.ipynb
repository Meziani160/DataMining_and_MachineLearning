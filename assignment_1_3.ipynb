{
  "cells": [
    {
      "cell_type": "markdown",
      "metadata": {
        "id": "view-in-github",
        "colab_type": "text"
      },
      "source": [
        "<a href=\"https://colab.research.google.com/github/Meziani160/DataMining_and_MachineLearning/blob/master/assignment_1_3.ipynb\" target=\"_parent\"><img src=\"https://colab.research.google.com/assets/colab-badge.svg\" alt=\"Open In Colab\"/></a>"
      ]
    },
    {
      "cell_type": "markdown",
      "id": "af19791f",
      "metadata": {
        "id": "af19791f"
      },
      "source": [
        "# Data Mining and Machine Learning - Assignment questions 1 to 3\n",
        "\n",
        "> Topics Covered: Data Cleaning, Exploratory Data Analysis, Visualization and Regression \n",
        "\n",
        "**Due: Oct 23 @23.59 (Lausanne Time)**\n",
        "\n",
        "\n",
        "This assignment is the opportunity to apply the different concepts seen in class so far to a new dataset on the life expectancy.\n",
        "\n",
        "Run the first few cells to load the dataset and then get started with the questions! **Pay attention:** in order to start working, open the notebook in Colab, and make sure to make a copy of the notebook in your private Google Drive. After you finished, export the notebook as a .ipynb file and upload it on Moodle (Section \"Assignment\").\n",
        "\n",
        "To complete the assignment you have to do ***both***:\n",
        "\n",
        "1. Complete the exercises and submit your Python notebook\n",
        "2. Answer the questions to the quiz on Moodle\n",
        ">Note: You can only complete the quiz one time. Have your notebook with the answers ready for answering the quiz. The quiz will be made available Monday 10th October at 7p.m.\n",
        "\n",
        "Only the quiz questions accounts for your grade. Nevertheless, the answers to the quiz should be supported by your code in the notebook. If they are not, you will not receive points for them. \n",
        "\n",
        "**IMPORTANT!** You can discuss the questions with other students but **do not exchange code!** This is individual work. We will run your code and check for similarities. In case of high similarity scores between two notebooks, both the authors will get 0 points for the assignment.\n",
        "\n",
        "You can post your questions in slack channel #assignments.\n",
        "\n",
        "\n",
        "If there is need for further clarifications on the questions, after the assignment is released, we will update the file on GitHub, so make sure you check the git repo of the class for updates.\n",
        "\n",
        "Good luck!"
      ]
    },
    {
      "cell_type": "markdown",
      "id": "5400e551",
      "metadata": {
        "id": "5400e551"
      },
      "source": [
        "[![Open in Colab](https://colab.research.google.com/assets/colab-badge.svg)](https://colab.research.google.com/github/michalis0/DataMining_and_MachineLearning/blob/master/Assignment/Assignment_Q1_to_Q3_2022/Assignment_Q1_to_Q3_2022.ipynb)\n",
        "\n",
        "\n",
        "\n",
        "\n"
      ]
    },
    {
      "cell_type": "code",
      "execution_count": 64,
      "id": "a9c653d4",
      "metadata": {
        "id": "a9c653d4"
      },
      "outputs": [],
      "source": [
        "# Import required packages\n",
        "\n",
        "import pandas as pd\n",
        "import numpy as np\n",
        "import matplotlib.pyplot as plt\n",
        "import seaborn as sns\n",
        "%matplotlib inline\n",
        "sns.set_style(\"whitegrid\")"
      ]
    },
    {
      "cell_type": "code",
      "execution_count": 65,
      "id": "ac8305d0",
      "metadata": {
        "id": "ac8305d0"
      },
      "outputs": [],
      "source": [
        "# Load the data\n",
        "df = pd.read_csv(\"Life Expectancy Data.csv\")"
      ]
    },
    {
      "cell_type": "markdown",
      "id": "20330efe",
      "metadata": {
        "id": "20330efe"
      },
      "source": [
        "For this assignment, we use data gathered by the WHO (World Health Organization) regarding many countries, over several years. The dataset includes information on items purchased from this store, including for each item or article:\n",
        "* **Country**\n",
        "* **Year**: year of the measurement\n",
        "* **Status**: Developed or Developing status\n",
        "* **Life expectancy**: Life Expectancy in years\n",
        "* **Adult Mortality**: Adult Mortality Rates of both sexes (probability of dying between 15 and 60 years per 1000 population)\n",
        "* **Alcohol**: Alcohol, recorded per capita (individuals aged 15+) consumption (in litres of pure alcohol)\n",
        "* **Hepatitis B**: Hepatitis B (HepB) immunization coverage among 1-year-olds (%)\n",
        "* **Measles**: Measles - number of reported cases per 1000 population\n",
        "* **BMI**: Average Body Mass Index of entire population\n",
        "* **under-five deaths**: Number of under-five deaths per 1000 population\n",
        "* **Polio**: Polio (Pol3) immunization coverage among 1-year-olds (%)\n",
        "* **Total expenditure**: General government expenditure on health as a percentage of total government expenditure (%)\n",
        "* **Diphtheria**: Diphtheria tetanus toxoid and pertussis (DTP3) immunization coverage among 1-year-olds (%)\n",
        "* **HIV/AIDS**: Deaths per 1 000 live births HIV/AIDS (0-4 years)\n",
        "* **GDP**: Gross Domestic Product per capita (in USD)\n",
        "* **Population**: Population of the country\n",
        "* **thinness 1-19 years**: Proportion of thinness among children and adolescents for Age 10 to 19 (in %)\n",
        "* **thinness 5-9 years**: Proportion of thinness among children for Age 5 to 9 (in %)\n",
        "* **Income composition of resources**: Human Development Index in terms of income composition of resources (index ranging from 0 to 1)\n",
        "* **Schooling**: Number of years of schooling"
      ]
    },
    {
      "cell_type": "markdown",
      "id": "2a292c91",
      "metadata": {
        "id": "2a292c91"
      },
      "source": [
        "## 1. Understand and Clean the Dataset\n",
        "### 1.1 Initial exploration\n",
        "\n",
        ">1.1.1 Show the first 5 or 10 rows to get an idea of the data. "
      ]
    },
    {
      "cell_type": "code",
      "execution_count": 66,
      "id": "57577de4",
      "metadata": {
        "id": "57577de4",
        "colab": {
          "base_uri": "https://localhost:8080/",
          "height": 508
        },
        "outputId": "8932168a-4db1-4f63-aec3-4362cdc416aa"
      },
      "outputs": [
        {
          "output_type": "execute_result",
          "data": {
            "text/plain": [
              "       Country  Year      Status  Life expectancy   Adult Mortality  \\\n",
              "0  Afghanistan  2015  Developing              65.0            263.0   \n",
              "1  Afghanistan  2014  Developing              59.9            271.0   \n",
              "2  Afghanistan  2013  Developing              59.9            268.0   \n",
              "3  Afghanistan  2012  Developing              59.5            272.0   \n",
              "4  Afghanistan  2011  Developing              59.2            275.0   \n",
              "5  Afghanistan  2010  Developing              58.8            279.0   \n",
              "6  Afghanistan  2009  Developing              58.6            281.0   \n",
              "7  Afghanistan  2008  Developing              58.1            287.0   \n",
              "8  Afghanistan  2007  Developing              57.5            295.0   \n",
              "9  Afghanistan  2006  Developing              57.3            295.0   \n",
              "\n",
              "   infant deaths  Alcohol  percentage expenditure  Hepatitis B  Measles   ...  \\\n",
              "0             62     0.01               71.279624         65.0      1154  ...   \n",
              "1             64     0.01               73.523582         62.0       492  ...   \n",
              "2             66     0.01               73.219243         64.0       430  ...   \n",
              "3             69     0.01               78.184215         67.0      2787  ...   \n",
              "4             71     0.01                7.097109         68.0      3013  ...   \n",
              "5             74     0.01               79.679367         66.0      1989  ...   \n",
              "6             77     0.01               56.762217         63.0      2861  ...   \n",
              "7             80     0.03               25.873925         64.0      1599  ...   \n",
              "8             82     0.02               10.910156         63.0      1141  ...   \n",
              "9             84     0.03               17.171518         64.0      1990  ...   \n",
              "\n",
              "   Polio  Total expenditure  Diphtheria    HIV/AIDS         GDP  Population  \\\n",
              "0    6.0               8.16         65.0        0.1  584.259210  33736494.0   \n",
              "1   58.0               8.18         62.0        0.1  612.696514    327582.0   \n",
              "2   62.0               8.13         64.0        0.1  631.744976  31731688.0   \n",
              "3   67.0               8.52         67.0        0.1  669.959000   3696958.0   \n",
              "4   68.0               7.87         68.0        0.1   63.537231   2978599.0   \n",
              "5   66.0               9.20         66.0        0.1  553.328940   2883167.0   \n",
              "6   63.0               9.42         63.0        0.1  445.893298    284331.0   \n",
              "7   64.0               8.33         64.0        0.1  373.361116   2729431.0   \n",
              "8   63.0               6.73         63.0        0.1  369.835796  26616792.0   \n",
              "9   58.0               7.43         58.0        0.1  272.563770   2589345.0   \n",
              "\n",
              "    thinness  1-19 years   thinness 5-9 years  \\\n",
              "0                   17.2                 17.3   \n",
              "1                   17.5                 17.5   \n",
              "2                   17.7                 17.7   \n",
              "3                   17.9                 18.0   \n",
              "4                   18.2                 18.2   \n",
              "5                   18.4                 18.4   \n",
              "6                   18.6                 18.7   \n",
              "7                   18.8                 18.9   \n",
              "8                   19.0                 19.1   \n",
              "9                   19.2                 19.3   \n",
              "\n",
              "   Income composition of resources  Schooling  \n",
              "0                            0.479       10.1  \n",
              "1                            0.476       10.0  \n",
              "2                            0.470        9.9  \n",
              "3                            0.463        9.8  \n",
              "4                            0.454        9.5  \n",
              "5                            0.448        9.2  \n",
              "6                            0.434        8.9  \n",
              "7                            0.433        8.7  \n",
              "8                            0.415        8.4  \n",
              "9                            0.405        8.1  \n",
              "\n",
              "[10 rows x 22 columns]"
            ],
            "text/html": [
              "\n",
              "  <div id=\"df-7d35bc15-0906-4b1b-b4f0-d3cbb393ce2f\">\n",
              "    <div class=\"colab-df-container\">\n",
              "      <div>\n",
              "<style scoped>\n",
              "    .dataframe tbody tr th:only-of-type {\n",
              "        vertical-align: middle;\n",
              "    }\n",
              "\n",
              "    .dataframe tbody tr th {\n",
              "        vertical-align: top;\n",
              "    }\n",
              "\n",
              "    .dataframe thead th {\n",
              "        text-align: right;\n",
              "    }\n",
              "</style>\n",
              "<table border=\"1\" class=\"dataframe\">\n",
              "  <thead>\n",
              "    <tr style=\"text-align: right;\">\n",
              "      <th></th>\n",
              "      <th>Country</th>\n",
              "      <th>Year</th>\n",
              "      <th>Status</th>\n",
              "      <th>Life expectancy</th>\n",
              "      <th>Adult Mortality</th>\n",
              "      <th>infant deaths</th>\n",
              "      <th>Alcohol</th>\n",
              "      <th>percentage expenditure</th>\n",
              "      <th>Hepatitis B</th>\n",
              "      <th>Measles</th>\n",
              "      <th>...</th>\n",
              "      <th>Polio</th>\n",
              "      <th>Total expenditure</th>\n",
              "      <th>Diphtheria</th>\n",
              "      <th>HIV/AIDS</th>\n",
              "      <th>GDP</th>\n",
              "      <th>Population</th>\n",
              "      <th>thinness  1-19 years</th>\n",
              "      <th>thinness 5-9 years</th>\n",
              "      <th>Income composition of resources</th>\n",
              "      <th>Schooling</th>\n",
              "    </tr>\n",
              "  </thead>\n",
              "  <tbody>\n",
              "    <tr>\n",
              "      <th>0</th>\n",
              "      <td>Afghanistan</td>\n",
              "      <td>2015</td>\n",
              "      <td>Developing</td>\n",
              "      <td>65.0</td>\n",
              "      <td>263.0</td>\n",
              "      <td>62</td>\n",
              "      <td>0.01</td>\n",
              "      <td>71.279624</td>\n",
              "      <td>65.0</td>\n",
              "      <td>1154</td>\n",
              "      <td>...</td>\n",
              "      <td>6.0</td>\n",
              "      <td>8.16</td>\n",
              "      <td>65.0</td>\n",
              "      <td>0.1</td>\n",
              "      <td>584.259210</td>\n",
              "      <td>33736494.0</td>\n",
              "      <td>17.2</td>\n",
              "      <td>17.3</td>\n",
              "      <td>0.479</td>\n",
              "      <td>10.1</td>\n",
              "    </tr>\n",
              "    <tr>\n",
              "      <th>1</th>\n",
              "      <td>Afghanistan</td>\n",
              "      <td>2014</td>\n",
              "      <td>Developing</td>\n",
              "      <td>59.9</td>\n",
              "      <td>271.0</td>\n",
              "      <td>64</td>\n",
              "      <td>0.01</td>\n",
              "      <td>73.523582</td>\n",
              "      <td>62.0</td>\n",
              "      <td>492</td>\n",
              "      <td>...</td>\n",
              "      <td>58.0</td>\n",
              "      <td>8.18</td>\n",
              "      <td>62.0</td>\n",
              "      <td>0.1</td>\n",
              "      <td>612.696514</td>\n",
              "      <td>327582.0</td>\n",
              "      <td>17.5</td>\n",
              "      <td>17.5</td>\n",
              "      <td>0.476</td>\n",
              "      <td>10.0</td>\n",
              "    </tr>\n",
              "    <tr>\n",
              "      <th>2</th>\n",
              "      <td>Afghanistan</td>\n",
              "      <td>2013</td>\n",
              "      <td>Developing</td>\n",
              "      <td>59.9</td>\n",
              "      <td>268.0</td>\n",
              "      <td>66</td>\n",
              "      <td>0.01</td>\n",
              "      <td>73.219243</td>\n",
              "      <td>64.0</td>\n",
              "      <td>430</td>\n",
              "      <td>...</td>\n",
              "      <td>62.0</td>\n",
              "      <td>8.13</td>\n",
              "      <td>64.0</td>\n",
              "      <td>0.1</td>\n",
              "      <td>631.744976</td>\n",
              "      <td>31731688.0</td>\n",
              "      <td>17.7</td>\n",
              "      <td>17.7</td>\n",
              "      <td>0.470</td>\n",
              "      <td>9.9</td>\n",
              "    </tr>\n",
              "    <tr>\n",
              "      <th>3</th>\n",
              "      <td>Afghanistan</td>\n",
              "      <td>2012</td>\n",
              "      <td>Developing</td>\n",
              "      <td>59.5</td>\n",
              "      <td>272.0</td>\n",
              "      <td>69</td>\n",
              "      <td>0.01</td>\n",
              "      <td>78.184215</td>\n",
              "      <td>67.0</td>\n",
              "      <td>2787</td>\n",
              "      <td>...</td>\n",
              "      <td>67.0</td>\n",
              "      <td>8.52</td>\n",
              "      <td>67.0</td>\n",
              "      <td>0.1</td>\n",
              "      <td>669.959000</td>\n",
              "      <td>3696958.0</td>\n",
              "      <td>17.9</td>\n",
              "      <td>18.0</td>\n",
              "      <td>0.463</td>\n",
              "      <td>9.8</td>\n",
              "    </tr>\n",
              "    <tr>\n",
              "      <th>4</th>\n",
              "      <td>Afghanistan</td>\n",
              "      <td>2011</td>\n",
              "      <td>Developing</td>\n",
              "      <td>59.2</td>\n",
              "      <td>275.0</td>\n",
              "      <td>71</td>\n",
              "      <td>0.01</td>\n",
              "      <td>7.097109</td>\n",
              "      <td>68.0</td>\n",
              "      <td>3013</td>\n",
              "      <td>...</td>\n",
              "      <td>68.0</td>\n",
              "      <td>7.87</td>\n",
              "      <td>68.0</td>\n",
              "      <td>0.1</td>\n",
              "      <td>63.537231</td>\n",
              "      <td>2978599.0</td>\n",
              "      <td>18.2</td>\n",
              "      <td>18.2</td>\n",
              "      <td>0.454</td>\n",
              "      <td>9.5</td>\n",
              "    </tr>\n",
              "    <tr>\n",
              "      <th>5</th>\n",
              "      <td>Afghanistan</td>\n",
              "      <td>2010</td>\n",
              "      <td>Developing</td>\n",
              "      <td>58.8</td>\n",
              "      <td>279.0</td>\n",
              "      <td>74</td>\n",
              "      <td>0.01</td>\n",
              "      <td>79.679367</td>\n",
              "      <td>66.0</td>\n",
              "      <td>1989</td>\n",
              "      <td>...</td>\n",
              "      <td>66.0</td>\n",
              "      <td>9.20</td>\n",
              "      <td>66.0</td>\n",
              "      <td>0.1</td>\n",
              "      <td>553.328940</td>\n",
              "      <td>2883167.0</td>\n",
              "      <td>18.4</td>\n",
              "      <td>18.4</td>\n",
              "      <td>0.448</td>\n",
              "      <td>9.2</td>\n",
              "    </tr>\n",
              "    <tr>\n",
              "      <th>6</th>\n",
              "      <td>Afghanistan</td>\n",
              "      <td>2009</td>\n",
              "      <td>Developing</td>\n",
              "      <td>58.6</td>\n",
              "      <td>281.0</td>\n",
              "      <td>77</td>\n",
              "      <td>0.01</td>\n",
              "      <td>56.762217</td>\n",
              "      <td>63.0</td>\n",
              "      <td>2861</td>\n",
              "      <td>...</td>\n",
              "      <td>63.0</td>\n",
              "      <td>9.42</td>\n",
              "      <td>63.0</td>\n",
              "      <td>0.1</td>\n",
              "      <td>445.893298</td>\n",
              "      <td>284331.0</td>\n",
              "      <td>18.6</td>\n",
              "      <td>18.7</td>\n",
              "      <td>0.434</td>\n",
              "      <td>8.9</td>\n",
              "    </tr>\n",
              "    <tr>\n",
              "      <th>7</th>\n",
              "      <td>Afghanistan</td>\n",
              "      <td>2008</td>\n",
              "      <td>Developing</td>\n",
              "      <td>58.1</td>\n",
              "      <td>287.0</td>\n",
              "      <td>80</td>\n",
              "      <td>0.03</td>\n",
              "      <td>25.873925</td>\n",
              "      <td>64.0</td>\n",
              "      <td>1599</td>\n",
              "      <td>...</td>\n",
              "      <td>64.0</td>\n",
              "      <td>8.33</td>\n",
              "      <td>64.0</td>\n",
              "      <td>0.1</td>\n",
              "      <td>373.361116</td>\n",
              "      <td>2729431.0</td>\n",
              "      <td>18.8</td>\n",
              "      <td>18.9</td>\n",
              "      <td>0.433</td>\n",
              "      <td>8.7</td>\n",
              "    </tr>\n",
              "    <tr>\n",
              "      <th>8</th>\n",
              "      <td>Afghanistan</td>\n",
              "      <td>2007</td>\n",
              "      <td>Developing</td>\n",
              "      <td>57.5</td>\n",
              "      <td>295.0</td>\n",
              "      <td>82</td>\n",
              "      <td>0.02</td>\n",
              "      <td>10.910156</td>\n",
              "      <td>63.0</td>\n",
              "      <td>1141</td>\n",
              "      <td>...</td>\n",
              "      <td>63.0</td>\n",
              "      <td>6.73</td>\n",
              "      <td>63.0</td>\n",
              "      <td>0.1</td>\n",
              "      <td>369.835796</td>\n",
              "      <td>26616792.0</td>\n",
              "      <td>19.0</td>\n",
              "      <td>19.1</td>\n",
              "      <td>0.415</td>\n",
              "      <td>8.4</td>\n",
              "    </tr>\n",
              "    <tr>\n",
              "      <th>9</th>\n",
              "      <td>Afghanistan</td>\n",
              "      <td>2006</td>\n",
              "      <td>Developing</td>\n",
              "      <td>57.3</td>\n",
              "      <td>295.0</td>\n",
              "      <td>84</td>\n",
              "      <td>0.03</td>\n",
              "      <td>17.171518</td>\n",
              "      <td>64.0</td>\n",
              "      <td>1990</td>\n",
              "      <td>...</td>\n",
              "      <td>58.0</td>\n",
              "      <td>7.43</td>\n",
              "      <td>58.0</td>\n",
              "      <td>0.1</td>\n",
              "      <td>272.563770</td>\n",
              "      <td>2589345.0</td>\n",
              "      <td>19.2</td>\n",
              "      <td>19.3</td>\n",
              "      <td>0.405</td>\n",
              "      <td>8.1</td>\n",
              "    </tr>\n",
              "  </tbody>\n",
              "</table>\n",
              "<p>10 rows × 22 columns</p>\n",
              "</div>\n",
              "      <button class=\"colab-df-convert\" onclick=\"convertToInteractive('df-7d35bc15-0906-4b1b-b4f0-d3cbb393ce2f')\"\n",
              "              title=\"Convert this dataframe to an interactive table.\"\n",
              "              style=\"display:none;\">\n",
              "        \n",
              "  <svg xmlns=\"http://www.w3.org/2000/svg\" height=\"24px\"viewBox=\"0 0 24 24\"\n",
              "       width=\"24px\">\n",
              "    <path d=\"M0 0h24v24H0V0z\" fill=\"none\"/>\n",
              "    <path d=\"M18.56 5.44l.94 2.06.94-2.06 2.06-.94-2.06-.94-.94-2.06-.94 2.06-2.06.94zm-11 1L8.5 8.5l.94-2.06 2.06-.94-2.06-.94L8.5 2.5l-.94 2.06-2.06.94zm10 10l.94 2.06.94-2.06 2.06-.94-2.06-.94-.94-2.06-.94 2.06-2.06.94z\"/><path d=\"M17.41 7.96l-1.37-1.37c-.4-.4-.92-.59-1.43-.59-.52 0-1.04.2-1.43.59L10.3 9.45l-7.72 7.72c-.78.78-.78 2.05 0 2.83L4 21.41c.39.39.9.59 1.41.59.51 0 1.02-.2 1.41-.59l7.78-7.78 2.81-2.81c.8-.78.8-2.07 0-2.86zM5.41 20L4 18.59l7.72-7.72 1.47 1.35L5.41 20z\"/>\n",
              "  </svg>\n",
              "      </button>\n",
              "      \n",
              "  <style>\n",
              "    .colab-df-container {\n",
              "      display:flex;\n",
              "      flex-wrap:wrap;\n",
              "      gap: 12px;\n",
              "    }\n",
              "\n",
              "    .colab-df-convert {\n",
              "      background-color: #E8F0FE;\n",
              "      border: none;\n",
              "      border-radius: 50%;\n",
              "      cursor: pointer;\n",
              "      display: none;\n",
              "      fill: #1967D2;\n",
              "      height: 32px;\n",
              "      padding: 0 0 0 0;\n",
              "      width: 32px;\n",
              "    }\n",
              "\n",
              "    .colab-df-convert:hover {\n",
              "      background-color: #E2EBFA;\n",
              "      box-shadow: 0px 1px 2px rgba(60, 64, 67, 0.3), 0px 1px 3px 1px rgba(60, 64, 67, 0.15);\n",
              "      fill: #174EA6;\n",
              "    }\n",
              "\n",
              "    [theme=dark] .colab-df-convert {\n",
              "      background-color: #3B4455;\n",
              "      fill: #D2E3FC;\n",
              "    }\n",
              "\n",
              "    [theme=dark] .colab-df-convert:hover {\n",
              "      background-color: #434B5C;\n",
              "      box-shadow: 0px 1px 3px 1px rgba(0, 0, 0, 0.15);\n",
              "      filter: drop-shadow(0px 1px 2px rgba(0, 0, 0, 0.3));\n",
              "      fill: #FFFFFF;\n",
              "    }\n",
              "  </style>\n",
              "\n",
              "      <script>\n",
              "        const buttonEl =\n",
              "          document.querySelector('#df-7d35bc15-0906-4b1b-b4f0-d3cbb393ce2f button.colab-df-convert');\n",
              "        buttonEl.style.display =\n",
              "          google.colab.kernel.accessAllowed ? 'block' : 'none';\n",
              "\n",
              "        async function convertToInteractive(key) {\n",
              "          const element = document.querySelector('#df-7d35bc15-0906-4b1b-b4f0-d3cbb393ce2f');\n",
              "          const dataTable =\n",
              "            await google.colab.kernel.invokeFunction('convertToInteractive',\n",
              "                                                     [key], {});\n",
              "          if (!dataTable) return;\n",
              "\n",
              "          const docLinkHtml = 'Like what you see? Visit the ' +\n",
              "            '<a target=\"_blank\" href=https://colab.research.google.com/notebooks/data_table.ipynb>data table notebook</a>'\n",
              "            + ' to learn more about interactive tables.';\n",
              "          element.innerHTML = '';\n",
              "          dataTable['output_type'] = 'display_data';\n",
              "          await google.colab.output.renderOutput(dataTable, element);\n",
              "          const docLink = document.createElement('div');\n",
              "          docLink.innerHTML = docLinkHtml;\n",
              "          element.appendChild(docLink);\n",
              "        }\n",
              "      </script>\n",
              "    </div>\n",
              "  </div>\n",
              "  "
            ]
          },
          "metadata": {},
          "execution_count": 66
        }
      ],
      "source": [
        "df.head(10)"
      ]
    },
    {
      "cell_type": "markdown",
      "id": "1a01a5e0",
      "metadata": {
        "id": "1a01a5e0"
      },
      "source": [
        ">1.1.2 How many observations (rows) and columns are in the dataset?"
      ]
    },
    {
      "cell_type": "code",
      "execution_count": 67,
      "id": "8e8356c1",
      "metadata": {
        "id": "8e8356c1",
        "colab": {
          "base_uri": "https://localhost:8080/"
        },
        "outputId": "b1fe949b-c97d-44e2-9c49-d48f996231ab"
      },
      "outputs": [
        {
          "output_type": "execute_result",
          "data": {
            "text/plain": [
              "(2938, 22)"
            ]
          },
          "metadata": {},
          "execution_count": 67
        }
      ],
      "source": [
        "df.shape"
      ]
    },
    {
      "cell_type": "markdown",
      "id": "9aa68cca",
      "metadata": {
        "id": "9aa68cca"
      },
      "source": [
        "> 1.1.3 For which variable(s), if any, are there missing/null values?"
      ]
    },
    {
      "cell_type": "code",
      "execution_count": 68,
      "id": "45868696",
      "metadata": {
        "id": "45868696",
        "colab": {
          "base_uri": "https://localhost:8080/"
        },
        "outputId": "d9080551-f31e-440b-ccc5-1f396d04b05d"
      },
      "outputs": [
        {
          "output_type": "execute_result",
          "data": {
            "text/plain": [
              "Country                              0\n",
              "Year                                 0\n",
              "Status                               0\n",
              "Life expectancy                     10\n",
              "Adult Mortality                     10\n",
              "infant deaths                        0\n",
              "Alcohol                            194\n",
              "percentage expenditure               0\n",
              "Hepatitis B                        553\n",
              "Measles                              0\n",
              " BMI                                34\n",
              "under-five deaths                    0\n",
              "Polio                               19\n",
              "Total expenditure                  226\n",
              "Diphtheria                          19\n",
              " HIV/AIDS                            0\n",
              "GDP                                448\n",
              "Population                         652\n",
              " thinness  1-19 years               34\n",
              " thinness 5-9 years                 34\n",
              "Income composition of resources    167\n",
              "Schooling                          163\n",
              "dtype: int64"
            ]
          },
          "metadata": {},
          "execution_count": 68
        }
      ],
      "source": [
        "df.isnull().sum()"
      ]
    },
    {
      "cell_type": "markdown",
      "source": [
        "there are 14 features concerned"
      ],
      "metadata": {
        "id": "EJ9qfB05TLRO"
      },
      "id": "EJ9qfB05TLRO"
    },
    {
      "cell_type": "markdown",
      "id": "ffd7b5ff",
      "metadata": {
        "id": "ffd7b5ff"
      },
      "source": [
        ">1.1.4 Apply two small modifications to the names of the columns, that will help you avoid errors. \n",
        "* Remove spaces from beginning and end of the names of the features, if they have some\n",
        "* Put all the feature names start with an uppercase letter or all with a lowercase letter"
      ]
    },
    {
      "cell_type": "code",
      "execution_count": 69,
      "id": "b7476d0a",
      "metadata": {
        "id": "b7476d0a",
        "colab": {
          "base_uri": "https://localhost:8080/",
          "height": 317
        },
        "outputId": "daf3d9fc-9209-4358-c1d4-7fda9ced0b98"
      },
      "outputs": [
        {
          "output_type": "execute_result",
          "data": {
            "text/plain": [
              "       Country  Year      Status  Lifeexpectancy  AdultMortality  \\\n",
              "0  Afghanistan  2015  Developing            65.0           263.0   \n",
              "1  Afghanistan  2014  Developing            59.9           271.0   \n",
              "2  Afghanistan  2013  Developing            59.9           268.0   \n",
              "3  Afghanistan  2012  Developing            59.5           272.0   \n",
              "4  Afghanistan  2011  Developing            59.2           275.0   \n",
              "\n",
              "   infantdeaths  Alcohol  percentageexpenditure  HepatitisB  Measles  ...  \\\n",
              "0            62     0.01              71.279624        65.0     1154  ...   \n",
              "1            64     0.01              73.523582        62.0      492  ...   \n",
              "2            66     0.01              73.219243        64.0      430  ...   \n",
              "3            69     0.01              78.184215        67.0     2787  ...   \n",
              "4            71     0.01               7.097109        68.0     3013  ...   \n",
              "\n",
              "   Polio  Totalexpenditure  Diphtheria  HIV/AIDS         GDP  Population  \\\n",
              "0    6.0              8.16        65.0       0.1  584.259210  33736494.0   \n",
              "1   58.0              8.18        62.0       0.1  612.696514    327582.0   \n",
              "2   62.0              8.13        64.0       0.1  631.744976  31731688.0   \n",
              "3   67.0              8.52        67.0       0.1  669.959000   3696958.0   \n",
              "4   68.0              7.87        68.0       0.1   63.537231   2978599.0   \n",
              "\n",
              "   thinness1-19years  thinness5-9years  Incomecompositionofresources  \\\n",
              "0               17.2              17.3                         0.479   \n",
              "1               17.5              17.5                         0.476   \n",
              "2               17.7              17.7                         0.470   \n",
              "3               17.9              18.0                         0.463   \n",
              "4               18.2              18.2                         0.454   \n",
              "\n",
              "   Schooling  \n",
              "0       10.1  \n",
              "1       10.0  \n",
              "2        9.9  \n",
              "3        9.8  \n",
              "4        9.5  \n",
              "\n",
              "[5 rows x 22 columns]"
            ],
            "text/html": [
              "\n",
              "  <div id=\"df-8f181a02-bfa6-4cfd-914b-c276437f5d11\">\n",
              "    <div class=\"colab-df-container\">\n",
              "      <div>\n",
              "<style scoped>\n",
              "    .dataframe tbody tr th:only-of-type {\n",
              "        vertical-align: middle;\n",
              "    }\n",
              "\n",
              "    .dataframe tbody tr th {\n",
              "        vertical-align: top;\n",
              "    }\n",
              "\n",
              "    .dataframe thead th {\n",
              "        text-align: right;\n",
              "    }\n",
              "</style>\n",
              "<table border=\"1\" class=\"dataframe\">\n",
              "  <thead>\n",
              "    <tr style=\"text-align: right;\">\n",
              "      <th></th>\n",
              "      <th>Country</th>\n",
              "      <th>Year</th>\n",
              "      <th>Status</th>\n",
              "      <th>Lifeexpectancy</th>\n",
              "      <th>AdultMortality</th>\n",
              "      <th>infantdeaths</th>\n",
              "      <th>Alcohol</th>\n",
              "      <th>percentageexpenditure</th>\n",
              "      <th>HepatitisB</th>\n",
              "      <th>Measles</th>\n",
              "      <th>...</th>\n",
              "      <th>Polio</th>\n",
              "      <th>Totalexpenditure</th>\n",
              "      <th>Diphtheria</th>\n",
              "      <th>HIV/AIDS</th>\n",
              "      <th>GDP</th>\n",
              "      <th>Population</th>\n",
              "      <th>thinness1-19years</th>\n",
              "      <th>thinness5-9years</th>\n",
              "      <th>Incomecompositionofresources</th>\n",
              "      <th>Schooling</th>\n",
              "    </tr>\n",
              "  </thead>\n",
              "  <tbody>\n",
              "    <tr>\n",
              "      <th>0</th>\n",
              "      <td>Afghanistan</td>\n",
              "      <td>2015</td>\n",
              "      <td>Developing</td>\n",
              "      <td>65.0</td>\n",
              "      <td>263.0</td>\n",
              "      <td>62</td>\n",
              "      <td>0.01</td>\n",
              "      <td>71.279624</td>\n",
              "      <td>65.0</td>\n",
              "      <td>1154</td>\n",
              "      <td>...</td>\n",
              "      <td>6.0</td>\n",
              "      <td>8.16</td>\n",
              "      <td>65.0</td>\n",
              "      <td>0.1</td>\n",
              "      <td>584.259210</td>\n",
              "      <td>33736494.0</td>\n",
              "      <td>17.2</td>\n",
              "      <td>17.3</td>\n",
              "      <td>0.479</td>\n",
              "      <td>10.1</td>\n",
              "    </tr>\n",
              "    <tr>\n",
              "      <th>1</th>\n",
              "      <td>Afghanistan</td>\n",
              "      <td>2014</td>\n",
              "      <td>Developing</td>\n",
              "      <td>59.9</td>\n",
              "      <td>271.0</td>\n",
              "      <td>64</td>\n",
              "      <td>0.01</td>\n",
              "      <td>73.523582</td>\n",
              "      <td>62.0</td>\n",
              "      <td>492</td>\n",
              "      <td>...</td>\n",
              "      <td>58.0</td>\n",
              "      <td>8.18</td>\n",
              "      <td>62.0</td>\n",
              "      <td>0.1</td>\n",
              "      <td>612.696514</td>\n",
              "      <td>327582.0</td>\n",
              "      <td>17.5</td>\n",
              "      <td>17.5</td>\n",
              "      <td>0.476</td>\n",
              "      <td>10.0</td>\n",
              "    </tr>\n",
              "    <tr>\n",
              "      <th>2</th>\n",
              "      <td>Afghanistan</td>\n",
              "      <td>2013</td>\n",
              "      <td>Developing</td>\n",
              "      <td>59.9</td>\n",
              "      <td>268.0</td>\n",
              "      <td>66</td>\n",
              "      <td>0.01</td>\n",
              "      <td>73.219243</td>\n",
              "      <td>64.0</td>\n",
              "      <td>430</td>\n",
              "      <td>...</td>\n",
              "      <td>62.0</td>\n",
              "      <td>8.13</td>\n",
              "      <td>64.0</td>\n",
              "      <td>0.1</td>\n",
              "      <td>631.744976</td>\n",
              "      <td>31731688.0</td>\n",
              "      <td>17.7</td>\n",
              "      <td>17.7</td>\n",
              "      <td>0.470</td>\n",
              "      <td>9.9</td>\n",
              "    </tr>\n",
              "    <tr>\n",
              "      <th>3</th>\n",
              "      <td>Afghanistan</td>\n",
              "      <td>2012</td>\n",
              "      <td>Developing</td>\n",
              "      <td>59.5</td>\n",
              "      <td>272.0</td>\n",
              "      <td>69</td>\n",
              "      <td>0.01</td>\n",
              "      <td>78.184215</td>\n",
              "      <td>67.0</td>\n",
              "      <td>2787</td>\n",
              "      <td>...</td>\n",
              "      <td>67.0</td>\n",
              "      <td>8.52</td>\n",
              "      <td>67.0</td>\n",
              "      <td>0.1</td>\n",
              "      <td>669.959000</td>\n",
              "      <td>3696958.0</td>\n",
              "      <td>17.9</td>\n",
              "      <td>18.0</td>\n",
              "      <td>0.463</td>\n",
              "      <td>9.8</td>\n",
              "    </tr>\n",
              "    <tr>\n",
              "      <th>4</th>\n",
              "      <td>Afghanistan</td>\n",
              "      <td>2011</td>\n",
              "      <td>Developing</td>\n",
              "      <td>59.2</td>\n",
              "      <td>275.0</td>\n",
              "      <td>71</td>\n",
              "      <td>0.01</td>\n",
              "      <td>7.097109</td>\n",
              "      <td>68.0</td>\n",
              "      <td>3013</td>\n",
              "      <td>...</td>\n",
              "      <td>68.0</td>\n",
              "      <td>7.87</td>\n",
              "      <td>68.0</td>\n",
              "      <td>0.1</td>\n",
              "      <td>63.537231</td>\n",
              "      <td>2978599.0</td>\n",
              "      <td>18.2</td>\n",
              "      <td>18.2</td>\n",
              "      <td>0.454</td>\n",
              "      <td>9.5</td>\n",
              "    </tr>\n",
              "  </tbody>\n",
              "</table>\n",
              "<p>5 rows × 22 columns</p>\n",
              "</div>\n",
              "      <button class=\"colab-df-convert\" onclick=\"convertToInteractive('df-8f181a02-bfa6-4cfd-914b-c276437f5d11')\"\n",
              "              title=\"Convert this dataframe to an interactive table.\"\n",
              "              style=\"display:none;\">\n",
              "        \n",
              "  <svg xmlns=\"http://www.w3.org/2000/svg\" height=\"24px\"viewBox=\"0 0 24 24\"\n",
              "       width=\"24px\">\n",
              "    <path d=\"M0 0h24v24H0V0z\" fill=\"none\"/>\n",
              "    <path d=\"M18.56 5.44l.94 2.06.94-2.06 2.06-.94-2.06-.94-.94-2.06-.94 2.06-2.06.94zm-11 1L8.5 8.5l.94-2.06 2.06-.94-2.06-.94L8.5 2.5l-.94 2.06-2.06.94zm10 10l.94 2.06.94-2.06 2.06-.94-2.06-.94-.94-2.06-.94 2.06-2.06.94z\"/><path d=\"M17.41 7.96l-1.37-1.37c-.4-.4-.92-.59-1.43-.59-.52 0-1.04.2-1.43.59L10.3 9.45l-7.72 7.72c-.78.78-.78 2.05 0 2.83L4 21.41c.39.39.9.59 1.41.59.51 0 1.02-.2 1.41-.59l7.78-7.78 2.81-2.81c.8-.78.8-2.07 0-2.86zM5.41 20L4 18.59l7.72-7.72 1.47 1.35L5.41 20z\"/>\n",
              "  </svg>\n",
              "      </button>\n",
              "      \n",
              "  <style>\n",
              "    .colab-df-container {\n",
              "      display:flex;\n",
              "      flex-wrap:wrap;\n",
              "      gap: 12px;\n",
              "    }\n",
              "\n",
              "    .colab-df-convert {\n",
              "      background-color: #E8F0FE;\n",
              "      border: none;\n",
              "      border-radius: 50%;\n",
              "      cursor: pointer;\n",
              "      display: none;\n",
              "      fill: #1967D2;\n",
              "      height: 32px;\n",
              "      padding: 0 0 0 0;\n",
              "      width: 32px;\n",
              "    }\n",
              "\n",
              "    .colab-df-convert:hover {\n",
              "      background-color: #E2EBFA;\n",
              "      box-shadow: 0px 1px 2px rgba(60, 64, 67, 0.3), 0px 1px 3px 1px rgba(60, 64, 67, 0.15);\n",
              "      fill: #174EA6;\n",
              "    }\n",
              "\n",
              "    [theme=dark] .colab-df-convert {\n",
              "      background-color: #3B4455;\n",
              "      fill: #D2E3FC;\n",
              "    }\n",
              "\n",
              "    [theme=dark] .colab-df-convert:hover {\n",
              "      background-color: #434B5C;\n",
              "      box-shadow: 0px 1px 3px 1px rgba(0, 0, 0, 0.15);\n",
              "      filter: drop-shadow(0px 1px 2px rgba(0, 0, 0, 0.3));\n",
              "      fill: #FFFFFF;\n",
              "    }\n",
              "  </style>\n",
              "\n",
              "      <script>\n",
              "        const buttonEl =\n",
              "          document.querySelector('#df-8f181a02-bfa6-4cfd-914b-c276437f5d11 button.colab-df-convert');\n",
              "        buttonEl.style.display =\n",
              "          google.colab.kernel.accessAllowed ? 'block' : 'none';\n",
              "\n",
              "        async function convertToInteractive(key) {\n",
              "          const element = document.querySelector('#df-8f181a02-bfa6-4cfd-914b-c276437f5d11');\n",
              "          const dataTable =\n",
              "            await google.colab.kernel.invokeFunction('convertToInteractive',\n",
              "                                                     [key], {});\n",
              "          if (!dataTable) return;\n",
              "\n",
              "          const docLinkHtml = 'Like what you see? Visit the ' +\n",
              "            '<a target=\"_blank\" href=https://colab.research.google.com/notebooks/data_table.ipynb>data table notebook</a>'\n",
              "            + ' to learn more about interactive tables.';\n",
              "          element.innerHTML = '';\n",
              "          dataTable['output_type'] = 'display_data';\n",
              "          await google.colab.output.renderOutput(dataTable, element);\n",
              "          const docLink = document.createElement('div');\n",
              "          docLink.innerHTML = docLinkHtml;\n",
              "          element.appendChild(docLink);\n",
              "        }\n",
              "      </script>\n",
              "    </div>\n",
              "  </div>\n",
              "  "
            ]
          },
          "metadata": {},
          "execution_count": 69
        }
      ],
      "source": [
        "df.columns=df.columns.str.replace(' ','')\n",
        "df.head()"
      ]
    },
    {
      "cell_type": "code",
      "source": [
        "df.columns=df.columns.str.lower()\n",
        "df.head()"
      ],
      "metadata": {
        "id": "1yj2VupkHIXD",
        "colab": {
          "base_uri": "https://localhost:8080/",
          "height": 317
        },
        "outputId": "c3c6c5d4-caaa-4fc8-a578-01392d290946"
      },
      "id": "1yj2VupkHIXD",
      "execution_count": 70,
      "outputs": [
        {
          "output_type": "execute_result",
          "data": {
            "text/plain": [
              "       country  year      status  lifeexpectancy  adultmortality  \\\n",
              "0  Afghanistan  2015  Developing            65.0           263.0   \n",
              "1  Afghanistan  2014  Developing            59.9           271.0   \n",
              "2  Afghanistan  2013  Developing            59.9           268.0   \n",
              "3  Afghanistan  2012  Developing            59.5           272.0   \n",
              "4  Afghanistan  2011  Developing            59.2           275.0   \n",
              "\n",
              "   infantdeaths  alcohol  percentageexpenditure  hepatitisb  measles  ...  \\\n",
              "0            62     0.01              71.279624        65.0     1154  ...   \n",
              "1            64     0.01              73.523582        62.0      492  ...   \n",
              "2            66     0.01              73.219243        64.0      430  ...   \n",
              "3            69     0.01              78.184215        67.0     2787  ...   \n",
              "4            71     0.01               7.097109        68.0     3013  ...   \n",
              "\n",
              "   polio  totalexpenditure  diphtheria  hiv/aids         gdp  population  \\\n",
              "0    6.0              8.16        65.0       0.1  584.259210  33736494.0   \n",
              "1   58.0              8.18        62.0       0.1  612.696514    327582.0   \n",
              "2   62.0              8.13        64.0       0.1  631.744976  31731688.0   \n",
              "3   67.0              8.52        67.0       0.1  669.959000   3696958.0   \n",
              "4   68.0              7.87        68.0       0.1   63.537231   2978599.0   \n",
              "\n",
              "   thinness1-19years  thinness5-9years  incomecompositionofresources  \\\n",
              "0               17.2              17.3                         0.479   \n",
              "1               17.5              17.5                         0.476   \n",
              "2               17.7              17.7                         0.470   \n",
              "3               17.9              18.0                         0.463   \n",
              "4               18.2              18.2                         0.454   \n",
              "\n",
              "   schooling  \n",
              "0       10.1  \n",
              "1       10.0  \n",
              "2        9.9  \n",
              "3        9.8  \n",
              "4        9.5  \n",
              "\n",
              "[5 rows x 22 columns]"
            ],
            "text/html": [
              "\n",
              "  <div id=\"df-81116902-8ff1-4dd0-a086-a1179507d884\">\n",
              "    <div class=\"colab-df-container\">\n",
              "      <div>\n",
              "<style scoped>\n",
              "    .dataframe tbody tr th:only-of-type {\n",
              "        vertical-align: middle;\n",
              "    }\n",
              "\n",
              "    .dataframe tbody tr th {\n",
              "        vertical-align: top;\n",
              "    }\n",
              "\n",
              "    .dataframe thead th {\n",
              "        text-align: right;\n",
              "    }\n",
              "</style>\n",
              "<table border=\"1\" class=\"dataframe\">\n",
              "  <thead>\n",
              "    <tr style=\"text-align: right;\">\n",
              "      <th></th>\n",
              "      <th>country</th>\n",
              "      <th>year</th>\n",
              "      <th>status</th>\n",
              "      <th>lifeexpectancy</th>\n",
              "      <th>adultmortality</th>\n",
              "      <th>infantdeaths</th>\n",
              "      <th>alcohol</th>\n",
              "      <th>percentageexpenditure</th>\n",
              "      <th>hepatitisb</th>\n",
              "      <th>measles</th>\n",
              "      <th>...</th>\n",
              "      <th>polio</th>\n",
              "      <th>totalexpenditure</th>\n",
              "      <th>diphtheria</th>\n",
              "      <th>hiv/aids</th>\n",
              "      <th>gdp</th>\n",
              "      <th>population</th>\n",
              "      <th>thinness1-19years</th>\n",
              "      <th>thinness5-9years</th>\n",
              "      <th>incomecompositionofresources</th>\n",
              "      <th>schooling</th>\n",
              "    </tr>\n",
              "  </thead>\n",
              "  <tbody>\n",
              "    <tr>\n",
              "      <th>0</th>\n",
              "      <td>Afghanistan</td>\n",
              "      <td>2015</td>\n",
              "      <td>Developing</td>\n",
              "      <td>65.0</td>\n",
              "      <td>263.0</td>\n",
              "      <td>62</td>\n",
              "      <td>0.01</td>\n",
              "      <td>71.279624</td>\n",
              "      <td>65.0</td>\n",
              "      <td>1154</td>\n",
              "      <td>...</td>\n",
              "      <td>6.0</td>\n",
              "      <td>8.16</td>\n",
              "      <td>65.0</td>\n",
              "      <td>0.1</td>\n",
              "      <td>584.259210</td>\n",
              "      <td>33736494.0</td>\n",
              "      <td>17.2</td>\n",
              "      <td>17.3</td>\n",
              "      <td>0.479</td>\n",
              "      <td>10.1</td>\n",
              "    </tr>\n",
              "    <tr>\n",
              "      <th>1</th>\n",
              "      <td>Afghanistan</td>\n",
              "      <td>2014</td>\n",
              "      <td>Developing</td>\n",
              "      <td>59.9</td>\n",
              "      <td>271.0</td>\n",
              "      <td>64</td>\n",
              "      <td>0.01</td>\n",
              "      <td>73.523582</td>\n",
              "      <td>62.0</td>\n",
              "      <td>492</td>\n",
              "      <td>...</td>\n",
              "      <td>58.0</td>\n",
              "      <td>8.18</td>\n",
              "      <td>62.0</td>\n",
              "      <td>0.1</td>\n",
              "      <td>612.696514</td>\n",
              "      <td>327582.0</td>\n",
              "      <td>17.5</td>\n",
              "      <td>17.5</td>\n",
              "      <td>0.476</td>\n",
              "      <td>10.0</td>\n",
              "    </tr>\n",
              "    <tr>\n",
              "      <th>2</th>\n",
              "      <td>Afghanistan</td>\n",
              "      <td>2013</td>\n",
              "      <td>Developing</td>\n",
              "      <td>59.9</td>\n",
              "      <td>268.0</td>\n",
              "      <td>66</td>\n",
              "      <td>0.01</td>\n",
              "      <td>73.219243</td>\n",
              "      <td>64.0</td>\n",
              "      <td>430</td>\n",
              "      <td>...</td>\n",
              "      <td>62.0</td>\n",
              "      <td>8.13</td>\n",
              "      <td>64.0</td>\n",
              "      <td>0.1</td>\n",
              "      <td>631.744976</td>\n",
              "      <td>31731688.0</td>\n",
              "      <td>17.7</td>\n",
              "      <td>17.7</td>\n",
              "      <td>0.470</td>\n",
              "      <td>9.9</td>\n",
              "    </tr>\n",
              "    <tr>\n",
              "      <th>3</th>\n",
              "      <td>Afghanistan</td>\n",
              "      <td>2012</td>\n",
              "      <td>Developing</td>\n",
              "      <td>59.5</td>\n",
              "      <td>272.0</td>\n",
              "      <td>69</td>\n",
              "      <td>0.01</td>\n",
              "      <td>78.184215</td>\n",
              "      <td>67.0</td>\n",
              "      <td>2787</td>\n",
              "      <td>...</td>\n",
              "      <td>67.0</td>\n",
              "      <td>8.52</td>\n",
              "      <td>67.0</td>\n",
              "      <td>0.1</td>\n",
              "      <td>669.959000</td>\n",
              "      <td>3696958.0</td>\n",
              "      <td>17.9</td>\n",
              "      <td>18.0</td>\n",
              "      <td>0.463</td>\n",
              "      <td>9.8</td>\n",
              "    </tr>\n",
              "    <tr>\n",
              "      <th>4</th>\n",
              "      <td>Afghanistan</td>\n",
              "      <td>2011</td>\n",
              "      <td>Developing</td>\n",
              "      <td>59.2</td>\n",
              "      <td>275.0</td>\n",
              "      <td>71</td>\n",
              "      <td>0.01</td>\n",
              "      <td>7.097109</td>\n",
              "      <td>68.0</td>\n",
              "      <td>3013</td>\n",
              "      <td>...</td>\n",
              "      <td>68.0</td>\n",
              "      <td>7.87</td>\n",
              "      <td>68.0</td>\n",
              "      <td>0.1</td>\n",
              "      <td>63.537231</td>\n",
              "      <td>2978599.0</td>\n",
              "      <td>18.2</td>\n",
              "      <td>18.2</td>\n",
              "      <td>0.454</td>\n",
              "      <td>9.5</td>\n",
              "    </tr>\n",
              "  </tbody>\n",
              "</table>\n",
              "<p>5 rows × 22 columns</p>\n",
              "</div>\n",
              "      <button class=\"colab-df-convert\" onclick=\"convertToInteractive('df-81116902-8ff1-4dd0-a086-a1179507d884')\"\n",
              "              title=\"Convert this dataframe to an interactive table.\"\n",
              "              style=\"display:none;\">\n",
              "        \n",
              "  <svg xmlns=\"http://www.w3.org/2000/svg\" height=\"24px\"viewBox=\"0 0 24 24\"\n",
              "       width=\"24px\">\n",
              "    <path d=\"M0 0h24v24H0V0z\" fill=\"none\"/>\n",
              "    <path d=\"M18.56 5.44l.94 2.06.94-2.06 2.06-.94-2.06-.94-.94-2.06-.94 2.06-2.06.94zm-11 1L8.5 8.5l.94-2.06 2.06-.94-2.06-.94L8.5 2.5l-.94 2.06-2.06.94zm10 10l.94 2.06.94-2.06 2.06-.94-2.06-.94-.94-2.06-.94 2.06-2.06.94z\"/><path d=\"M17.41 7.96l-1.37-1.37c-.4-.4-.92-.59-1.43-.59-.52 0-1.04.2-1.43.59L10.3 9.45l-7.72 7.72c-.78.78-.78 2.05 0 2.83L4 21.41c.39.39.9.59 1.41.59.51 0 1.02-.2 1.41-.59l7.78-7.78 2.81-2.81c.8-.78.8-2.07 0-2.86zM5.41 20L4 18.59l7.72-7.72 1.47 1.35L5.41 20z\"/>\n",
              "  </svg>\n",
              "      </button>\n",
              "      \n",
              "  <style>\n",
              "    .colab-df-container {\n",
              "      display:flex;\n",
              "      flex-wrap:wrap;\n",
              "      gap: 12px;\n",
              "    }\n",
              "\n",
              "    .colab-df-convert {\n",
              "      background-color: #E8F0FE;\n",
              "      border: none;\n",
              "      border-radius: 50%;\n",
              "      cursor: pointer;\n",
              "      display: none;\n",
              "      fill: #1967D2;\n",
              "      height: 32px;\n",
              "      padding: 0 0 0 0;\n",
              "      width: 32px;\n",
              "    }\n",
              "\n",
              "    .colab-df-convert:hover {\n",
              "      background-color: #E2EBFA;\n",
              "      box-shadow: 0px 1px 2px rgba(60, 64, 67, 0.3), 0px 1px 3px 1px rgba(60, 64, 67, 0.15);\n",
              "      fill: #174EA6;\n",
              "    }\n",
              "\n",
              "    [theme=dark] .colab-df-convert {\n",
              "      background-color: #3B4455;\n",
              "      fill: #D2E3FC;\n",
              "    }\n",
              "\n",
              "    [theme=dark] .colab-df-convert:hover {\n",
              "      background-color: #434B5C;\n",
              "      box-shadow: 0px 1px 3px 1px rgba(0, 0, 0, 0.15);\n",
              "      filter: drop-shadow(0px 1px 2px rgba(0, 0, 0, 0.3));\n",
              "      fill: #FFFFFF;\n",
              "    }\n",
              "  </style>\n",
              "\n",
              "      <script>\n",
              "        const buttonEl =\n",
              "          document.querySelector('#df-81116902-8ff1-4dd0-a086-a1179507d884 button.colab-df-convert');\n",
              "        buttonEl.style.display =\n",
              "          google.colab.kernel.accessAllowed ? 'block' : 'none';\n",
              "\n",
              "        async function convertToInteractive(key) {\n",
              "          const element = document.querySelector('#df-81116902-8ff1-4dd0-a086-a1179507d884');\n",
              "          const dataTable =\n",
              "            await google.colab.kernel.invokeFunction('convertToInteractive',\n",
              "                                                     [key], {});\n",
              "          if (!dataTable) return;\n",
              "\n",
              "          const docLinkHtml = 'Like what you see? Visit the ' +\n",
              "            '<a target=\"_blank\" href=https://colab.research.google.com/notebooks/data_table.ipynb>data table notebook</a>'\n",
              "            + ' to learn more about interactive tables.';\n",
              "          element.innerHTML = '';\n",
              "          dataTable['output_type'] = 'display_data';\n",
              "          await google.colab.output.renderOutput(dataTable, element);\n",
              "          const docLink = document.createElement('div');\n",
              "          docLink.innerHTML = docLinkHtml;\n",
              "          element.appendChild(docLink);\n",
              "        }\n",
              "      </script>\n",
              "    </div>\n",
              "  </div>\n",
              "  "
            ]
          },
          "metadata": {},
          "execution_count": 70
        }
      ]
    },
    {
      "cell_type": "markdown",
      "id": "9c9953be",
      "metadata": {
        "id": "9c9953be"
      },
      "source": [
        ">1.1.5 Drop the following columns (we will not need them):\n",
        "* Adult Mortality\n",
        "* Alcohol\n",
        "* Under-five deaths \n",
        "* Total expenditure\n",
        "* Diphtheria\n",
        "* Thinness  1-19 years\n",
        "* Thinness 5-9 years\n",
        "* Income composition of resources"
      ]
    },
    {
      "cell_type": "code",
      "execution_count": 71,
      "id": "93e2611a",
      "metadata": {
        "id": "93e2611a"
      },
      "outputs": [],
      "source": [
        "columns_to_delete = ['adultmortality', 'alcohol','under-fivedeaths','totalexpenditure','diphtheria','thinness1-19years','thinness5-9years','incomecompositionofresources']\n",
        "df.drop(columns_to_delete, inplace=True, axis=1)"
      ]
    },
    {
      "cell_type": "code",
      "source": [
        "df.head()"
      ],
      "metadata": {
        "colab": {
          "base_uri": "https://localhost:8080/",
          "height": 206
        },
        "id": "sE3GEioDQeVw",
        "outputId": "29c4ab9a-4f4e-498d-946c-f874e4c29f39"
      },
      "id": "sE3GEioDQeVw",
      "execution_count": null,
      "outputs": [
        {
          "output_type": "execute_result",
          "data": {
            "text/plain": [
              "       country  year      status  lifeexpectancy  infantdeaths  \\\n",
              "0  Afghanistan  2015  Developing            65.0            62   \n",
              "1  Afghanistan  2014  Developing            59.9            64   \n",
              "2  Afghanistan  2013  Developing            59.9            66   \n",
              "3  Afghanistan  2012  Developing            59.5            69   \n",
              "4  Afghanistan  2011  Developing            59.2            71   \n",
              "\n",
              "   percentageexpenditure  hepatitisb  measles   bmi  polio  hiv/aids  \\\n",
              "0              71.279624        65.0     1154  19.1    6.0       0.1   \n",
              "1              73.523582        62.0      492  18.6   58.0       0.1   \n",
              "2              73.219243        64.0      430  18.1   62.0       0.1   \n",
              "3              78.184215        67.0     2787  17.6   67.0       0.1   \n",
              "4               7.097109        68.0     3013  17.2   68.0       0.1   \n",
              "\n",
              "          gdp  population  schooling  \n",
              "0  584.259210  33736494.0       10.1  \n",
              "1  612.696514    327582.0       10.0  \n",
              "2  631.744976  31731688.0        9.9  \n",
              "3  669.959000   3696958.0        9.8  \n",
              "4   63.537231   2978599.0        9.5  "
            ],
            "text/html": [
              "\n",
              "  <div id=\"df-b1157264-0620-4344-9ac9-6470e7f4c695\">\n",
              "    <div class=\"colab-df-container\">\n",
              "      <div>\n",
              "<style scoped>\n",
              "    .dataframe tbody tr th:only-of-type {\n",
              "        vertical-align: middle;\n",
              "    }\n",
              "\n",
              "    .dataframe tbody tr th {\n",
              "        vertical-align: top;\n",
              "    }\n",
              "\n",
              "    .dataframe thead th {\n",
              "        text-align: right;\n",
              "    }\n",
              "</style>\n",
              "<table border=\"1\" class=\"dataframe\">\n",
              "  <thead>\n",
              "    <tr style=\"text-align: right;\">\n",
              "      <th></th>\n",
              "      <th>country</th>\n",
              "      <th>year</th>\n",
              "      <th>status</th>\n",
              "      <th>lifeexpectancy</th>\n",
              "      <th>infantdeaths</th>\n",
              "      <th>percentageexpenditure</th>\n",
              "      <th>hepatitisb</th>\n",
              "      <th>measles</th>\n",
              "      <th>bmi</th>\n",
              "      <th>polio</th>\n",
              "      <th>hiv/aids</th>\n",
              "      <th>gdp</th>\n",
              "      <th>population</th>\n",
              "      <th>schooling</th>\n",
              "    </tr>\n",
              "  </thead>\n",
              "  <tbody>\n",
              "    <tr>\n",
              "      <th>0</th>\n",
              "      <td>Afghanistan</td>\n",
              "      <td>2015</td>\n",
              "      <td>Developing</td>\n",
              "      <td>65.0</td>\n",
              "      <td>62</td>\n",
              "      <td>71.279624</td>\n",
              "      <td>65.0</td>\n",
              "      <td>1154</td>\n",
              "      <td>19.1</td>\n",
              "      <td>6.0</td>\n",
              "      <td>0.1</td>\n",
              "      <td>584.259210</td>\n",
              "      <td>33736494.0</td>\n",
              "      <td>10.1</td>\n",
              "    </tr>\n",
              "    <tr>\n",
              "      <th>1</th>\n",
              "      <td>Afghanistan</td>\n",
              "      <td>2014</td>\n",
              "      <td>Developing</td>\n",
              "      <td>59.9</td>\n",
              "      <td>64</td>\n",
              "      <td>73.523582</td>\n",
              "      <td>62.0</td>\n",
              "      <td>492</td>\n",
              "      <td>18.6</td>\n",
              "      <td>58.0</td>\n",
              "      <td>0.1</td>\n",
              "      <td>612.696514</td>\n",
              "      <td>327582.0</td>\n",
              "      <td>10.0</td>\n",
              "    </tr>\n",
              "    <tr>\n",
              "      <th>2</th>\n",
              "      <td>Afghanistan</td>\n",
              "      <td>2013</td>\n",
              "      <td>Developing</td>\n",
              "      <td>59.9</td>\n",
              "      <td>66</td>\n",
              "      <td>73.219243</td>\n",
              "      <td>64.0</td>\n",
              "      <td>430</td>\n",
              "      <td>18.1</td>\n",
              "      <td>62.0</td>\n",
              "      <td>0.1</td>\n",
              "      <td>631.744976</td>\n",
              "      <td>31731688.0</td>\n",
              "      <td>9.9</td>\n",
              "    </tr>\n",
              "    <tr>\n",
              "      <th>3</th>\n",
              "      <td>Afghanistan</td>\n",
              "      <td>2012</td>\n",
              "      <td>Developing</td>\n",
              "      <td>59.5</td>\n",
              "      <td>69</td>\n",
              "      <td>78.184215</td>\n",
              "      <td>67.0</td>\n",
              "      <td>2787</td>\n",
              "      <td>17.6</td>\n",
              "      <td>67.0</td>\n",
              "      <td>0.1</td>\n",
              "      <td>669.959000</td>\n",
              "      <td>3696958.0</td>\n",
              "      <td>9.8</td>\n",
              "    </tr>\n",
              "    <tr>\n",
              "      <th>4</th>\n",
              "      <td>Afghanistan</td>\n",
              "      <td>2011</td>\n",
              "      <td>Developing</td>\n",
              "      <td>59.2</td>\n",
              "      <td>71</td>\n",
              "      <td>7.097109</td>\n",
              "      <td>68.0</td>\n",
              "      <td>3013</td>\n",
              "      <td>17.2</td>\n",
              "      <td>68.0</td>\n",
              "      <td>0.1</td>\n",
              "      <td>63.537231</td>\n",
              "      <td>2978599.0</td>\n",
              "      <td>9.5</td>\n",
              "    </tr>\n",
              "  </tbody>\n",
              "</table>\n",
              "</div>\n",
              "      <button class=\"colab-df-convert\" onclick=\"convertToInteractive('df-b1157264-0620-4344-9ac9-6470e7f4c695')\"\n",
              "              title=\"Convert this dataframe to an interactive table.\"\n",
              "              style=\"display:none;\">\n",
              "        \n",
              "  <svg xmlns=\"http://www.w3.org/2000/svg\" height=\"24px\"viewBox=\"0 0 24 24\"\n",
              "       width=\"24px\">\n",
              "    <path d=\"M0 0h24v24H0V0z\" fill=\"none\"/>\n",
              "    <path d=\"M18.56 5.44l.94 2.06.94-2.06 2.06-.94-2.06-.94-.94-2.06-.94 2.06-2.06.94zm-11 1L8.5 8.5l.94-2.06 2.06-.94-2.06-.94L8.5 2.5l-.94 2.06-2.06.94zm10 10l.94 2.06.94-2.06 2.06-.94-2.06-.94-.94-2.06-.94 2.06-2.06.94z\"/><path d=\"M17.41 7.96l-1.37-1.37c-.4-.4-.92-.59-1.43-.59-.52 0-1.04.2-1.43.59L10.3 9.45l-7.72 7.72c-.78.78-.78 2.05 0 2.83L4 21.41c.39.39.9.59 1.41.59.51 0 1.02-.2 1.41-.59l7.78-7.78 2.81-2.81c.8-.78.8-2.07 0-2.86zM5.41 20L4 18.59l7.72-7.72 1.47 1.35L5.41 20z\"/>\n",
              "  </svg>\n",
              "      </button>\n",
              "      \n",
              "  <style>\n",
              "    .colab-df-container {\n",
              "      display:flex;\n",
              "      flex-wrap:wrap;\n",
              "      gap: 12px;\n",
              "    }\n",
              "\n",
              "    .colab-df-convert {\n",
              "      background-color: #E8F0FE;\n",
              "      border: none;\n",
              "      border-radius: 50%;\n",
              "      cursor: pointer;\n",
              "      display: none;\n",
              "      fill: #1967D2;\n",
              "      height: 32px;\n",
              "      padding: 0 0 0 0;\n",
              "      width: 32px;\n",
              "    }\n",
              "\n",
              "    .colab-df-convert:hover {\n",
              "      background-color: #E2EBFA;\n",
              "      box-shadow: 0px 1px 2px rgba(60, 64, 67, 0.3), 0px 1px 3px 1px rgba(60, 64, 67, 0.15);\n",
              "      fill: #174EA6;\n",
              "    }\n",
              "\n",
              "    [theme=dark] .colab-df-convert {\n",
              "      background-color: #3B4455;\n",
              "      fill: #D2E3FC;\n",
              "    }\n",
              "\n",
              "    [theme=dark] .colab-df-convert:hover {\n",
              "      background-color: #434B5C;\n",
              "      box-shadow: 0px 1px 3px 1px rgba(0, 0, 0, 0.15);\n",
              "      filter: drop-shadow(0px 1px 2px rgba(0, 0, 0, 0.3));\n",
              "      fill: #FFFFFF;\n",
              "    }\n",
              "  </style>\n",
              "\n",
              "      <script>\n",
              "        const buttonEl =\n",
              "          document.querySelector('#df-b1157264-0620-4344-9ac9-6470e7f4c695 button.colab-df-convert');\n",
              "        buttonEl.style.display =\n",
              "          google.colab.kernel.accessAllowed ? 'block' : 'none';\n",
              "\n",
              "        async function convertToInteractive(key) {\n",
              "          const element = document.querySelector('#df-b1157264-0620-4344-9ac9-6470e7f4c695');\n",
              "          const dataTable =\n",
              "            await google.colab.kernel.invokeFunction('convertToInteractive',\n",
              "                                                     [key], {});\n",
              "          if (!dataTable) return;\n",
              "\n",
              "          const docLinkHtml = 'Like what you see? Visit the ' +\n",
              "            '<a target=\"_blank\" href=https://colab.research.google.com/notebooks/data_table.ipynb>data table notebook</a>'\n",
              "            + ' to learn more about interactive tables.';\n",
              "          element.innerHTML = '';\n",
              "          dataTable['output_type'] = 'display_data';\n",
              "          await google.colab.output.renderOutput(dataTable, element);\n",
              "          const docLink = document.createElement('div');\n",
              "          docLink.innerHTML = docLinkHtml;\n",
              "          element.appendChild(docLink);\n",
              "        }\n",
              "      </script>\n",
              "    </div>\n",
              "  </div>\n",
              "  "
            ]
          },
          "metadata": {},
          "execution_count": 160
        }
      ]
    },
    {
      "cell_type": "markdown",
      "id": "f330e9e4",
      "metadata": {
        "id": "f330e9e4"
      },
      "source": [
        ">1.1.6 Which state had the highest **life expectancy** in a single year? ONLY for this question and the following one (1.1.7), you will need to drop the rows that have NaN as life expectancy."
      ]
    },
    {
      "cell_type": "code",
      "execution_count": 72,
      "id": "118edea6",
      "metadata": {
        "id": "118edea6",
        "colab": {
          "base_uri": "https://localhost:8080/"
        },
        "outputId": "11c16574-4400-4034-a35e-43a1fffd6b02"
      },
      "outputs": [
        {
          "output_type": "execute_result",
          "data": {
            "text/plain": [
              "0       65.0\n",
              "1       59.9\n",
              "2       59.9\n",
              "3       59.5\n",
              "4       59.2\n",
              "        ... \n",
              "2933    44.3\n",
              "2934    44.5\n",
              "2935    44.8\n",
              "2936    45.3\n",
              "2937    46.0\n",
              "Name: lifeexpectancy, Length: 2928, dtype: float64"
            ]
          },
          "metadata": {},
          "execution_count": 72
        }
      ],
      "source": [
        "df['lifeexpectancy'].dropna()"
      ]
    },
    {
      "cell_type": "code",
      "source": [
        "df['country'][df['lifeexpectancy'].idxmax()]"
      ],
      "metadata": {
        "colab": {
          "base_uri": "https://localhost:8080/",
          "height": 36
        },
        "id": "suZzJyvnJGl8",
        "outputId": "20750783-72fe-40bf-8dc5-1b28d4e6b4bd"
      },
      "id": "suZzJyvnJGl8",
      "execution_count": 73,
      "outputs": [
        {
          "output_type": "execute_result",
          "data": {
            "text/plain": [
              "'Belgium'"
            ],
            "application/vnd.google.colaboratory.intrinsic+json": {
              "type": "string"
            }
          },
          "metadata": {},
          "execution_count": 73
        }
      ]
    },
    {
      "cell_type": "markdown",
      "id": "97fa7714",
      "metadata": {
        "id": "97fa7714"
      },
      "source": [
        ">1.1.7 Which state had the highest **life expectancy** on average over all the years covered by the dataset?"
      ]
    },
    {
      "cell_type": "code",
      "execution_count": 74,
      "id": "c45b40d5",
      "metadata": {
        "id": "c45b40d5",
        "colab": {
          "base_uri": "https://localhost:8080/",
          "height": 36
        },
        "outputId": "6bef63cf-2020-4eb6-beda-bcd6f05030fd"
      },
      "outputs": [
        {
          "output_type": "execute_result",
          "data": {
            "text/plain": [
              "'Japan'"
            ],
            "application/vnd.google.colaboratory.intrinsic+json": {
              "type": "string"
            }
          },
          "metadata": {},
          "execution_count": 74
        }
      ],
      "source": [
        "df_per_country=df.groupby(\"country\")[\"lifeexpectancy\"].mean()\n",
        "df_per_country.idxmax()"
      ]
    },
    {
      "cell_type": "markdown",
      "id": "ed658bc8",
      "metadata": {
        "id": "ed658bc8"
      },
      "source": [
        ">1.1.8 What percentage of developing countries have GDP per capita (averaged over the period) higher than 1000? Drop countries with missing GDP for this question. Round up to 3 decimal points. ONLY for this question, you will need to drop the rows that have NaN as GDP.\n"
      ]
    },
    {
      "cell_type": "code",
      "execution_count": 75,
      "id": "9f091e90",
      "metadata": {
        "id": "9f091e90",
        "colab": {
          "base_uri": "https://localhost:8080/"
        },
        "outputId": "994ca4e7-7790-4a89-cf7d-67bf0bbff845"
      },
      "outputs": [
        {
          "output_type": "execute_result",
          "data": {
            "text/plain": [
              "0.6518518518518519"
            ]
          },
          "metadata": {},
          "execution_count": 75
        }
      ],
      "source": [
        "df2=df.dropna(axis=0,subset=[\"gdp\"])\n",
        "dvp_country=df2[df2.status=='Developing']\n",
        "dvp_country=dvp_country.groupby(\"country\").mean()\n",
        "df3=dvp_country[dvp_country['gdp']>1000]\n",
        "len(df3)/len(dvp_country)\n",
        "\n",
        "\n"
      ]
    },
    {
      "cell_type": "markdown",
      "id": "952cf424",
      "metadata": {
        "id": "952cf424"
      },
      "source": [
        "### 1.2 Data types\n",
        "\n",
        ">1.2.1. List the different features and their data type. ¶\n"
      ]
    },
    {
      "cell_type": "code",
      "execution_count": 76,
      "id": "1f22cde4",
      "metadata": {
        "id": "1f22cde4",
        "colab": {
          "base_uri": "https://localhost:8080/"
        },
        "outputId": "43eef526-8c12-4b5e-a1f7-34ac9901e5cd"
      },
      "outputs": [
        {
          "output_type": "execute_result",
          "data": {
            "text/plain": [
              "country                   object\n",
              "year                       int64\n",
              "status                    object\n",
              "lifeexpectancy           float64\n",
              "infantdeaths               int64\n",
              "percentageexpenditure    float64\n",
              "hepatitisb               float64\n",
              "measles                    int64\n",
              "bmi                      float64\n",
              "polio                    float64\n",
              "hiv/aids                 float64\n",
              "gdp                      float64\n",
              "population               float64\n",
              "schooling                float64\n",
              "dtype: object"
            ]
          },
          "metadata": {},
          "execution_count": 76
        }
      ],
      "source": [
        "df.dtypes\n"
      ]
    },
    {
      "cell_type": "markdown",
      "id": "6ce572ee",
      "metadata": {
        "id": "6ce572ee"
      },
      "source": [
        ">1.2.2. Are there any duplicated entries?"
      ]
    },
    {
      "cell_type": "code",
      "execution_count": 77,
      "id": "5c5b226c",
      "metadata": {
        "id": "5c5b226c",
        "colab": {
          "base_uri": "https://localhost:8080/",
          "height": 113
        },
        "outputId": "b65e8aff-8927-4149-c879-49a4f73f9f02"
      },
      "outputs": [
        {
          "output_type": "execute_result",
          "data": {
            "text/plain": [
              "Empty DataFrame\n",
              "Columns: [country, year, status, lifeexpectancy, infantdeaths, percentageexpenditure, hepatitisb, measles, bmi, polio, hiv/aids, gdp, population, schooling]\n",
              "Index: []"
            ],
            "text/html": [
              "\n",
              "  <div id=\"df-4235997d-d9b1-4e59-a724-96983cc16318\">\n",
              "    <div class=\"colab-df-container\">\n",
              "      <div>\n",
              "<style scoped>\n",
              "    .dataframe tbody tr th:only-of-type {\n",
              "        vertical-align: middle;\n",
              "    }\n",
              "\n",
              "    .dataframe tbody tr th {\n",
              "        vertical-align: top;\n",
              "    }\n",
              "\n",
              "    .dataframe thead th {\n",
              "        text-align: right;\n",
              "    }\n",
              "</style>\n",
              "<table border=\"1\" class=\"dataframe\">\n",
              "  <thead>\n",
              "    <tr style=\"text-align: right;\">\n",
              "      <th></th>\n",
              "      <th>country</th>\n",
              "      <th>year</th>\n",
              "      <th>status</th>\n",
              "      <th>lifeexpectancy</th>\n",
              "      <th>infantdeaths</th>\n",
              "      <th>percentageexpenditure</th>\n",
              "      <th>hepatitisb</th>\n",
              "      <th>measles</th>\n",
              "      <th>bmi</th>\n",
              "      <th>polio</th>\n",
              "      <th>hiv/aids</th>\n",
              "      <th>gdp</th>\n",
              "      <th>population</th>\n",
              "      <th>schooling</th>\n",
              "    </tr>\n",
              "  </thead>\n",
              "  <tbody>\n",
              "  </tbody>\n",
              "</table>\n",
              "</div>\n",
              "      <button class=\"colab-df-convert\" onclick=\"convertToInteractive('df-4235997d-d9b1-4e59-a724-96983cc16318')\"\n",
              "              title=\"Convert this dataframe to an interactive table.\"\n",
              "              style=\"display:none;\">\n",
              "        \n",
              "  <svg xmlns=\"http://www.w3.org/2000/svg\" height=\"24px\"viewBox=\"0 0 24 24\"\n",
              "       width=\"24px\">\n",
              "    <path d=\"M0 0h24v24H0V0z\" fill=\"none\"/>\n",
              "    <path d=\"M18.56 5.44l.94 2.06.94-2.06 2.06-.94-2.06-.94-.94-2.06-.94 2.06-2.06.94zm-11 1L8.5 8.5l.94-2.06 2.06-.94-2.06-.94L8.5 2.5l-.94 2.06-2.06.94zm10 10l.94 2.06.94-2.06 2.06-.94-2.06-.94-.94-2.06-.94 2.06-2.06.94z\"/><path d=\"M17.41 7.96l-1.37-1.37c-.4-.4-.92-.59-1.43-.59-.52 0-1.04.2-1.43.59L10.3 9.45l-7.72 7.72c-.78.78-.78 2.05 0 2.83L4 21.41c.39.39.9.59 1.41.59.51 0 1.02-.2 1.41-.59l7.78-7.78 2.81-2.81c.8-.78.8-2.07 0-2.86zM5.41 20L4 18.59l7.72-7.72 1.47 1.35L5.41 20z\"/>\n",
              "  </svg>\n",
              "      </button>\n",
              "      \n",
              "  <style>\n",
              "    .colab-df-container {\n",
              "      display:flex;\n",
              "      flex-wrap:wrap;\n",
              "      gap: 12px;\n",
              "    }\n",
              "\n",
              "    .colab-df-convert {\n",
              "      background-color: #E8F0FE;\n",
              "      border: none;\n",
              "      border-radius: 50%;\n",
              "      cursor: pointer;\n",
              "      display: none;\n",
              "      fill: #1967D2;\n",
              "      height: 32px;\n",
              "      padding: 0 0 0 0;\n",
              "      width: 32px;\n",
              "    }\n",
              "\n",
              "    .colab-df-convert:hover {\n",
              "      background-color: #E2EBFA;\n",
              "      box-shadow: 0px 1px 2px rgba(60, 64, 67, 0.3), 0px 1px 3px 1px rgba(60, 64, 67, 0.15);\n",
              "      fill: #174EA6;\n",
              "    }\n",
              "\n",
              "    [theme=dark] .colab-df-convert {\n",
              "      background-color: #3B4455;\n",
              "      fill: #D2E3FC;\n",
              "    }\n",
              "\n",
              "    [theme=dark] .colab-df-convert:hover {\n",
              "      background-color: #434B5C;\n",
              "      box-shadow: 0px 1px 3px 1px rgba(0, 0, 0, 0.15);\n",
              "      filter: drop-shadow(0px 1px 2px rgba(0, 0, 0, 0.3));\n",
              "      fill: #FFFFFF;\n",
              "    }\n",
              "  </style>\n",
              "\n",
              "      <script>\n",
              "        const buttonEl =\n",
              "          document.querySelector('#df-4235997d-d9b1-4e59-a724-96983cc16318 button.colab-df-convert');\n",
              "        buttonEl.style.display =\n",
              "          google.colab.kernel.accessAllowed ? 'block' : 'none';\n",
              "\n",
              "        async function convertToInteractive(key) {\n",
              "          const element = document.querySelector('#df-4235997d-d9b1-4e59-a724-96983cc16318');\n",
              "          const dataTable =\n",
              "            await google.colab.kernel.invokeFunction('convertToInteractive',\n",
              "                                                     [key], {});\n",
              "          if (!dataTable) return;\n",
              "\n",
              "          const docLinkHtml = 'Like what you see? Visit the ' +\n",
              "            '<a target=\"_blank\" href=https://colab.research.google.com/notebooks/data_table.ipynb>data table notebook</a>'\n",
              "            + ' to learn more about interactive tables.';\n",
              "          element.innerHTML = '';\n",
              "          dataTable['output_type'] = 'display_data';\n",
              "          await google.colab.output.renderOutput(dataTable, element);\n",
              "          const docLink = document.createElement('div');\n",
              "          docLink.innerHTML = docLinkHtml;\n",
              "          element.appendChild(docLink);\n",
              "        }\n",
              "      </script>\n",
              "    </div>\n",
              "  </div>\n",
              "  "
            ]
          },
          "metadata": {},
          "execution_count": 77
        }
      ],
      "source": [
        "df.loc[df.duplicated()==\"True\",: ]"
      ]
    },
    {
      "cell_type": "markdown",
      "id": "2b22dd60",
      "metadata": {
        "id": "2b22dd60"
      },
      "source": [
        ">1.2.3. Change the data type for the following columns: Country (from object to string), Status (from object to category)\n"
      ]
    },
    {
      "cell_type": "code",
      "execution_count": 78,
      "id": "7e576111",
      "metadata": {
        "id": "7e576111",
        "colab": {
          "base_uri": "https://localhost:8080/"
        },
        "outputId": "f89809ff-bf39-4a8f-bfa2-c09d7cf39498"
      },
      "outputs": [
        {
          "output_type": "execute_result",
          "data": {
            "text/plain": [
              "0       Developing\n",
              "1       Developing\n",
              "2       Developing\n",
              "3       Developing\n",
              "4       Developing\n",
              "           ...    \n",
              "2933    Developing\n",
              "2934    Developing\n",
              "2935    Developing\n",
              "2936    Developing\n",
              "2937    Developing\n",
              "Name: status, Length: 2938, dtype: category\n",
              "Categories (2, object): ['Developed', 'Developing']"
            ]
          },
          "metadata": {},
          "execution_count": 78
        }
      ],
      "source": [
        "df['country'].astype(str)\n",
        "df['status'].astype(\"category\")"
      ]
    },
    {
      "cell_type": "markdown",
      "id": "0d9dfea9",
      "metadata": {
        "id": "0d9dfea9"
      },
      "source": [
        ">1.2.4. For which period have these data samples been collected? (i.e, the oldest and the most recent entries in the dataset)"
      ]
    },
    {
      "cell_type": "code",
      "execution_count": 79,
      "id": "5226461f",
      "metadata": {
        "id": "5226461f",
        "colab": {
          "base_uri": "https://localhost:8080/"
        },
        "outputId": "bed15052-08e7-471a-a829-19cc7dacdbc2"
      },
      "outputs": [
        {
          "output_type": "stream",
          "name": "stdout",
          "text": [
            "2000 2015\n"
          ]
        }
      ],
      "source": [
        "borninf=df[\"year\"].min()\n",
        "bornsup=df[\"year\"].max()\n",
        "\n",
        "print(borninf,bornsup)"
      ]
    },
    {
      "cell_type": "markdown",
      "id": "2077bdc4",
      "metadata": {
        "id": "2077bdc4"
      },
      "source": [
        "\n",
        "## 2. Exploratory Data Analysis and Visualization"
      ]
    },
    {
      "cell_type": "markdown",
      "id": "c2401911",
      "metadata": {
        "id": "c2401911"
      },
      "source": [
        ">2.1 Which are the top 5 countries that had the highest **population growth** over the period included in the dataset?\n",
        "Consider population growth as the difference between the population in the last year and the first year of measurement\n",
        "\n",
        ">Hint: for each country, the data follows a certain order..."
      ]
    },
    {
      "cell_type": "code",
      "source": [
        "df.groupby(['country']).apply(lambda x: x[x.year == x.year.max()].population.iloc[0] - x[x.year == x.year.min()].population.iloc[0]).explode().dropna().sort_values(ascending = False)"
      ],
      "metadata": {
        "colab": {
          "base_uri": "https://localhost:8080/"
        },
        "id": "JuYaRkxmM0nU",
        "outputId": "0b5e786a-cfb7-45fa-f3ce-6e01f9379152"
      },
      "id": "JuYaRkxmM0nU",
      "execution_count": 80,
      "outputs": [
        {
          "output_type": "execute_result",
          "data": {
            "text/plain": [
              "country\n",
              "Indonesia             237007684.0\n",
              "Nigeria               179958215.0\n",
              "Germany                73465453.0\n",
              "Turkey                 71947351.0\n",
              "Colombia               47784739.0\n",
              "                         ...     \n",
              "Philippines           -66275210.0\n",
              "Pakistan             -119584772.0\n",
              "Bangladesh           -129968357.0\n",
              "Russian Federation   -145146870.0\n",
              "Brazil               -172691369.0\n",
              "Length: 144, dtype: float64"
            ]
          },
          "metadata": {},
          "execution_count": 80
        }
      ]
    },
    {
      "cell_type": "markdown",
      "id": "871125ee",
      "metadata": {
        "id": "871125ee"
      },
      "source": [
        ">2.2 How many unique countries were included in the dataset?"
      ]
    },
    {
      "cell_type": "code",
      "execution_count": 81,
      "id": "d616dc86",
      "metadata": {
        "id": "d616dc86",
        "colab": {
          "base_uri": "https://localhost:8080/"
        },
        "outputId": "d541d6e1-4834-48e4-d31c-9d53b7d02d46"
      },
      "outputs": [
        {
          "output_type": "stream",
          "name": "stdout",
          "text": [
            "193\n"
          ]
        }
      ],
      "source": [
        "print(df[\"country\"].nunique())"
      ]
    },
    {
      "cell_type": "markdown",
      "id": "5e5d7b18",
      "metadata": {
        "id": "5e5d7b18"
      },
      "source": [
        ">...Plot the top ten countries by average GDP on a horizontal bar chart."
      ]
    },
    {
      "cell_type": "code",
      "execution_count": 82,
      "id": "ed4a6318",
      "metadata": {
        "id": "ed4a6318",
        "colab": {
          "base_uri": "https://localhost:8080/",
          "height": 298
        },
        "outputId": "4224785e-673f-4bb9-aacb-27585a18d9a8"
      },
      "outputs": [
        {
          "output_type": "execute_result",
          "data": {
            "text/plain": [
              "<matplotlib.axes._subplots.AxesSubplot at 0x7f4491a35c90>"
            ]
          },
          "metadata": {},
          "execution_count": 82
        },
        {
          "output_type": "display_data",
          "data": {
            "text/plain": [
              "<Figure size 432x288 with 1 Axes>"
            ],
            "image/png": "[encoded data removed]"
          },
          "metadata": {}
        }
      ],
      "source": [
        "gdp_df=df.groupby(\"country\")[\"gdp\"].mean().sort_values(ascending = False)\n",
        "gdp_df.iloc[0:10].plot.barh(x='country', y='gdp',\n",
        "             title='top ten countries by average GDP', color='red')\n"
      ]
    },
    {
      "cell_type": "markdown",
      "id": "c64c6a56",
      "metadata": {
        "id": "c64c6a56"
      },
      "source": [
        ">2.3. Sometimes it is useful to group datapoints that share certain common traits. That's what we'll do in this composite question. All the modifications to the dataframe suggested here must be ONLY for the questions 2.3. So we suggest to generate a new dataframe for this question, to avoid affecting the main one.\n",
        "\n",
        "> 2.3.1 First, aggregate the data by country taking the mean of every numerical feature. At this point you should have 1 row per Country. Keep only the following features: `HIV/AIDS`,`Polio`,`Measles`,`Infant deaths`,`Hepatitis B`. (Remember, you might need the other features after question 2.3, so do not delete them from the main df)"
      ]
    },
    {
      "cell_type": "code",
      "execution_count": 83,
      "id": "d3357125",
      "metadata": {
        "id": "d3357125",
        "colab": {
          "base_uri": "https://localhost:8080/",
          "height": 478
        },
        "outputId": "37529402-baf7-4b31-ff33-571e0440af13"
      },
      "outputs": [
        {
          "output_type": "stream",
          "name": "stderr",
          "text": [
            "/usr/local/lib/python3.7/dist-packages/ipykernel_launcher.py:1: FutureWarning: Indexing with multiple keys (implicitly converted to a tuple of keys) will be deprecated, use a list instead.\n",
            "  \"\"\"Entry point for launching an IPython kernel.\n"
          ]
        },
        {
          "output_type": "execute_result",
          "data": {
            "text/plain": [
              "                                country  hiv/aids    polio    measles  \\\n",
              "0                           Afghanistan   0.10000  48.3750  2362.2500   \n",
              "1                               Albania   0.10000  98.1250    53.3750   \n",
              "2                               Algeria   0.10000  91.7500  1943.8750   \n",
              "3                                Angola   2.36875  46.1250  3561.3125   \n",
              "4                   Antigua and Barbuda   0.12500  96.9375     0.0000   \n",
              "..                                  ...       ...      ...        ...   \n",
              "188  Venezuela (Bolivarian Republic of)   0.10000  74.6875   165.0000   \n",
              "189                            Viet Nam   0.14375  94.9375  4232.9375   \n",
              "190                               Yemen   0.10000  67.1250  2761.1875   \n",
              "191                              Zambia  11.93125  64.3750  6563.8125   \n",
              "192                            Zimbabwe  23.26250  75.6250   923.0000   \n",
              "\n",
              "     infantdeaths  hepatitisb  \n",
              "0         78.2500   64.562500  \n",
              "1          0.6875   98.000000  \n",
              "2         20.3125   78.000000  \n",
              "3         83.7500   70.222222  \n",
              "4          0.0000   98.266667  \n",
              "..            ...         ...  \n",
              "188        9.3750   66.250000  \n",
              "189       29.1875   87.538462  \n",
              "190       39.3750   55.687500  \n",
              "191       33.4375   69.818182  \n",
              "192       26.5625   70.562500  \n",
              "\n",
              "[193 rows x 6 columns]"
            ],
            "text/html": [
              "\n",
              "  <div id=\"df-a2000566-93a7-4722-9c25-98dcf745c7a1\">\n",
              "    <div class=\"colab-df-container\">\n",
              "      <div>\n",
              "<style scoped>\n",
              "    .dataframe tbody tr th:only-of-type {\n",
              "        vertical-align: middle;\n",
              "    }\n",
              "\n",
              "    .dataframe tbody tr th {\n",
              "        vertical-align: top;\n",
              "    }\n",
              "\n",
              "    .dataframe thead th {\n",
              "        text-align: right;\n",
              "    }\n",
              "</style>\n",
              "<table border=\"1\" class=\"dataframe\">\n",
              "  <thead>\n",
              "    <tr style=\"text-align: right;\">\n",
              "      <th></th>\n",
              "      <th>country</th>\n",
              "      <th>hiv/aids</th>\n",
              "      <th>polio</th>\n",
              "      <th>measles</th>\n",
              "      <th>infantdeaths</th>\n",
              "      <th>hepatitisb</th>\n",
              "    </tr>\n",
              "  </thead>\n",
              "  <tbody>\n",
              "    <tr>\n",
              "      <th>0</th>\n",
              "      <td>Afghanistan</td>\n",
              "      <td>0.10000</td>\n",
              "      <td>48.3750</td>\n",
              "      <td>2362.2500</td>\n",
              "      <td>78.2500</td>\n",
              "      <td>64.562500</td>\n",
              "    </tr>\n",
              "    <tr>\n",
              "      <th>1</th>\n",
              "      <td>Albania</td>\n",
              "      <td>0.10000</td>\n",
              "      <td>98.1250</td>\n",
              "      <td>53.3750</td>\n",
              "      <td>0.6875</td>\n",
              "      <td>98.000000</td>\n",
              "    </tr>\n",
              "    <tr>\n",
              "      <th>2</th>\n",
              "      <td>Algeria</td>\n",
              "      <td>0.10000</td>\n",
              "      <td>91.7500</td>\n",
              "      <td>1943.8750</td>\n",
              "      <td>20.3125</td>\n",
              "      <td>78.000000</td>\n",
              "    </tr>\n",
              "    <tr>\n",
              "      <th>3</th>\n",
              "      <td>Angola</td>\n",
              "      <td>2.36875</td>\n",
              "      <td>46.1250</td>\n",
              "      <td>3561.3125</td>\n",
              "      <td>83.7500</td>\n",
              "      <td>70.222222</td>\n",
              "    </tr>\n",
              "    <tr>\n",
              "      <th>4</th>\n",
              "      <td>Antigua and Barbuda</td>\n",
              "      <td>0.12500</td>\n",
              "      <td>96.9375</td>\n",
              "      <td>0.0000</td>\n",
              "      <td>0.0000</td>\n",
              "      <td>98.266667</td>\n",
              "    </tr>\n",
              "    <tr>\n",
              "      <th>...</th>\n",
              "      <td>...</td>\n",
              "      <td>...</td>\n",
              "      <td>...</td>\n",
              "      <td>...</td>\n",
              "      <td>...</td>\n",
              "      <td>...</td>\n",
              "    </tr>\n",
              "    <tr>\n",
              "      <th>188</th>\n",
              "      <td>Venezuela (Bolivarian Republic of)</td>\n",
              "      <td>0.10000</td>\n",
              "      <td>74.6875</td>\n",
              "      <td>165.0000</td>\n",
              "      <td>9.3750</td>\n",
              "      <td>66.250000</td>\n",
              "    </tr>\n",
              "    <tr>\n",
              "      <th>189</th>\n",
              "      <td>Viet Nam</td>\n",
              "      <td>0.14375</td>\n",
              "      <td>94.9375</td>\n",
              "      <td>4232.9375</td>\n",
              "      <td>29.1875</td>\n",
              "      <td>87.538462</td>\n",
              "    </tr>\n",
              "    <tr>\n",
              "      <th>190</th>\n",
              "      <td>Yemen</td>\n",
              "      <td>0.10000</td>\n",
              "      <td>67.1250</td>\n",
              "      <td>2761.1875</td>\n",
              "      <td>39.3750</td>\n",
              "      <td>55.687500</td>\n",
              "    </tr>\n",
              "    <tr>\n",
              "      <th>191</th>\n",
              "      <td>Zambia</td>\n",
              "      <td>11.93125</td>\n",
              "      <td>64.3750</td>\n",
              "      <td>6563.8125</td>\n",
              "      <td>33.4375</td>\n",
              "      <td>69.818182</td>\n",
              "    </tr>\n",
              "    <tr>\n",
              "      <th>192</th>\n",
              "      <td>Zimbabwe</td>\n",
              "      <td>23.26250</td>\n",
              "      <td>75.6250</td>\n",
              "      <td>923.0000</td>\n",
              "      <td>26.5625</td>\n",
              "      <td>70.562500</td>\n",
              "    </tr>\n",
              "  </tbody>\n",
              "</table>\n",
              "<p>193 rows × 6 columns</p>\n",
              "</div>\n",
              "      <button class=\"colab-df-convert\" onclick=\"convertToInteractive('df-a2000566-93a7-4722-9c25-98dcf745c7a1')\"\n",
              "              title=\"Convert this dataframe to an interactive table.\"\n",
              "              style=\"display:none;\">\n",
              "        \n",
              "  <svg xmlns=\"http://www.w3.org/2000/svg\" height=\"24px\"viewBox=\"0 0 24 24\"\n",
              "       width=\"24px\">\n",
              "    <path d=\"M0 0h24v24H0V0z\" fill=\"none\"/>\n",
              "    <path d=\"M18.56 5.44l.94 2.06.94-2.06 2.06-.94-2.06-.94-.94-2.06-.94 2.06-2.06.94zm-11 1L8.5 8.5l.94-2.06 2.06-.94-2.06-.94L8.5 2.5l-.94 2.06-2.06.94zm10 10l.94 2.06.94-2.06 2.06-.94-2.06-.94-.94-2.06-.94 2.06-2.06.94z\"/><path d=\"M17.41 7.96l-1.37-1.37c-.4-.4-.92-.59-1.43-.59-.52 0-1.04.2-1.43.59L10.3 9.45l-7.72 7.72c-.78.78-.78 2.05 0 2.83L4 21.41c.39.39.9.59 1.41.59.51 0 1.02-.2 1.41-.59l7.78-7.78 2.81-2.81c.8-.78.8-2.07 0-2.86zM5.41 20L4 18.59l7.72-7.72 1.47 1.35L5.41 20z\"/>\n",
              "  </svg>\n",
              "      </button>\n",
              "      \n",
              "  <style>\n",
              "    .colab-df-container {\n",
              "      display:flex;\n",
              "      flex-wrap:wrap;\n",
              "      gap: 12px;\n",
              "    }\n",
              "\n",
              "    .colab-df-convert {\n",
              "      background-color: #E8F0FE;\n",
              "      border: none;\n",
              "      border-radius: 50%;\n",
              "      cursor: pointer;\n",
              "      display: none;\n",
              "      fill: #1967D2;\n",
              "      height: 32px;\n",
              "      padding: 0 0 0 0;\n",
              "      width: 32px;\n",
              "    }\n",
              "\n",
              "    .colab-df-convert:hover {\n",
              "      background-color: #E2EBFA;\n",
              "      box-shadow: 0px 1px 2px rgba(60, 64, 67, 0.3), 0px 1px 3px 1px rgba(60, 64, 67, 0.15);\n",
              "      fill: #174EA6;\n",
              "    }\n",
              "\n",
              "    [theme=dark] .colab-df-convert {\n",
              "      background-color: #3B4455;\n",
              "      fill: #D2E3FC;\n",
              "    }\n",
              "\n",
              "    [theme=dark] .colab-df-convert:hover {\n",
              "      background-color: #434B5C;\n",
              "      box-shadow: 0px 1px 3px 1px rgba(0, 0, 0, 0.15);\n",
              "      filter: drop-shadow(0px 1px 2px rgba(0, 0, 0, 0.3));\n",
              "      fill: #FFFFFF;\n",
              "    }\n",
              "  </style>\n",
              "\n",
              "      <script>\n",
              "        const buttonEl =\n",
              "          document.querySelector('#df-a2000566-93a7-4722-9c25-98dcf745c7a1 button.colab-df-convert');\n",
              "        buttonEl.style.display =\n",
              "          google.colab.kernel.accessAllowed ? 'block' : 'none';\n",
              "\n",
              "        async function convertToInteractive(key) {\n",
              "          const element = document.querySelector('#df-a2000566-93a7-4722-9c25-98dcf745c7a1');\n",
              "          const dataTable =\n",
              "            await google.colab.kernel.invokeFunction('convertToInteractive',\n",
              "                                                     [key], {});\n",
              "          if (!dataTable) return;\n",
              "\n",
              "          const docLinkHtml = 'Like what you see? Visit the ' +\n",
              "            '<a target=\"_blank\" href=https://colab.research.google.com/notebooks/data_table.ipynb>data table notebook</a>'\n",
              "            + ' to learn more about interactive tables.';\n",
              "          element.innerHTML = '';\n",
              "          dataTable['output_type'] = 'display_data';\n",
              "          await google.colab.output.renderOutput(dataTable, element);\n",
              "          const docLink = document.createElement('div');\n",
              "          docLink.innerHTML = docLinkHtml;\n",
              "          element.appendChild(docLink);\n",
              "        }\n",
              "      </script>\n",
              "    </div>\n",
              "  </div>\n",
              "  "
            ]
          },
          "metadata": {},
          "execution_count": 83
        }
      ],
      "source": [
        "mean_df = df.groupby(['country'])['hiv/aids', 'polio','measles','infantdeaths', 'hepatitisb'].mean()\n",
        "mean_df.reset_index()"
      ]
    },
    {
      "cell_type": "markdown",
      "id": "a0aedb3b",
      "metadata": {
        "id": "a0aedb3b"
      },
      "source": [
        "> 2.3.2 Then, keep only the following columns, and AFTERWARDS drop all the rows that have NaN values : `HIV/AIDS`,`Polio`,`Measles`,`Infant deaths`,`Hepatitis B`. (Remember, you might need them after question 2.3, so do not delete them from the main df)"
      ]
    },
    {
      "cell_type": "code",
      "execution_count": 84,
      "id": "bedee774",
      "metadata": {
        "id": "bedee774",
        "colab": {
          "base_uri": "https://localhost:8080/",
          "height": 455
        },
        "outputId": "77ccbf62-5ddb-4fb0-83d0-c0cae6043ab3"
      },
      "outputs": [
        {
          "output_type": "execute_result",
          "data": {
            "text/plain": [
              "                                    hiv/aids    polio    measles  \\\n",
              "country                                                            \n",
              "Afghanistan                          0.10000  48.3750  2362.2500   \n",
              "Albania                              0.10000  98.1250    53.3750   \n",
              "Algeria                              0.10000  91.7500  1943.8750   \n",
              "Angola                               2.36875  46.1250  3561.3125   \n",
              "Antigua and Barbuda                  0.12500  96.9375     0.0000   \n",
              "...                                      ...      ...        ...   \n",
              "Venezuela (Bolivarian Republic of)   0.10000  74.6875   165.0000   \n",
              "Viet Nam                             0.14375  94.9375  4232.9375   \n",
              "Yemen                                0.10000  67.1250  2761.1875   \n",
              "Zambia                              11.93125  64.3750  6563.8125   \n",
              "Zimbabwe                            23.26250  75.6250   923.0000   \n",
              "\n",
              "                                    infantdeaths  hepatitisb  \n",
              "country                                                       \n",
              "Afghanistan                              78.2500   64.562500  \n",
              "Albania                                   0.6875   98.000000  \n",
              "Algeria                                  20.3125   78.000000  \n",
              "Angola                                   83.7500   70.222222  \n",
              "Antigua and Barbuda                       0.0000   98.266667  \n",
              "...                                          ...         ...  \n",
              "Venezuela (Bolivarian Republic of)        9.3750   66.250000  \n",
              "Viet Nam                                 29.1875   87.538462  \n",
              "Yemen                                    39.3750   55.687500  \n",
              "Zambia                                   33.4375   69.818182  \n",
              "Zimbabwe                                 26.5625   70.562500  \n",
              "\n",
              "[184 rows x 5 columns]"
            ],
            "text/html": [
              "\n",
              "  <div id=\"df-441368e7-527b-40ca-9478-6905adc0759e\">\n",
              "    <div class=\"colab-df-container\">\n",
              "      <div>\n",
              "<style scoped>\n",
              "    .dataframe tbody tr th:only-of-type {\n",
              "        vertical-align: middle;\n",
              "    }\n",
              "\n",
              "    .dataframe tbody tr th {\n",
              "        vertical-align: top;\n",
              "    }\n",
              "\n",
              "    .dataframe thead th {\n",
              "        text-align: right;\n",
              "    }\n",
              "</style>\n",
              "<table border=\"1\" class=\"dataframe\">\n",
              "  <thead>\n",
              "    <tr style=\"text-align: right;\">\n",
              "      <th></th>\n",
              "      <th>hiv/aids</th>\n",
              "      <th>polio</th>\n",
              "      <th>measles</th>\n",
              "      <th>infantdeaths</th>\n",
              "      <th>hepatitisb</th>\n",
              "    </tr>\n",
              "    <tr>\n",
              "      <th>country</th>\n",
              "      <th></th>\n",
              "      <th></th>\n",
              "      <th></th>\n",
              "      <th></th>\n",
              "      <th></th>\n",
              "    </tr>\n",
              "  </thead>\n",
              "  <tbody>\n",
              "    <tr>\n",
              "      <th>Afghanistan</th>\n",
              "      <td>0.10000</td>\n",
              "      <td>48.3750</td>\n",
              "      <td>2362.2500</td>\n",
              "      <td>78.2500</td>\n",
              "      <td>64.562500</td>\n",
              "    </tr>\n",
              "    <tr>\n",
              "      <th>Albania</th>\n",
              "      <td>0.10000</td>\n",
              "      <td>98.1250</td>\n",
              "      <td>53.3750</td>\n",
              "      <td>0.6875</td>\n",
              "      <td>98.000000</td>\n",
              "    </tr>\n",
              "    <tr>\n",
              "      <th>Algeria</th>\n",
              "      <td>0.10000</td>\n",
              "      <td>91.7500</td>\n",
              "      <td>1943.8750</td>\n",
              "      <td>20.3125</td>\n",
              "      <td>78.000000</td>\n",
              "    </tr>\n",
              "    <tr>\n",
              "      <th>Angola</th>\n",
              "      <td>2.36875</td>\n",
              "      <td>46.1250</td>\n",
              "      <td>3561.3125</td>\n",
              "      <td>83.7500</td>\n",
              "      <td>70.222222</td>\n",
              "    </tr>\n",
              "    <tr>\n",
              "      <th>Antigua and Barbuda</th>\n",
              "      <td>0.12500</td>\n",
              "      <td>96.9375</td>\n",
              "      <td>0.0000</td>\n",
              "      <td>0.0000</td>\n",
              "      <td>98.266667</td>\n",
              "    </tr>\n",
              "    <tr>\n",
              "      <th>...</th>\n",
              "      <td>...</td>\n",
              "      <td>...</td>\n",
              "      <td>...</td>\n",
              "      <td>...</td>\n",
              "      <td>...</td>\n",
              "    </tr>\n",
              "    <tr>\n",
              "      <th>Venezuela (Bolivarian Republic of)</th>\n",
              "      <td>0.10000</td>\n",
              "      <td>74.6875</td>\n",
              "      <td>165.0000</td>\n",
              "      <td>9.3750</td>\n",
              "      <td>66.250000</td>\n",
              "    </tr>\n",
              "    <tr>\n",
              "      <th>Viet Nam</th>\n",
              "      <td>0.14375</td>\n",
              "      <td>94.9375</td>\n",
              "      <td>4232.9375</td>\n",
              "      <td>29.1875</td>\n",
              "      <td>87.538462</td>\n",
              "    </tr>\n",
              "    <tr>\n",
              "      <th>Yemen</th>\n",
              "      <td>0.10000</td>\n",
              "      <td>67.1250</td>\n",
              "      <td>2761.1875</td>\n",
              "      <td>39.3750</td>\n",
              "      <td>55.687500</td>\n",
              "    </tr>\n",
              "    <tr>\n",
              "      <th>Zambia</th>\n",
              "      <td>11.93125</td>\n",
              "      <td>64.3750</td>\n",
              "      <td>6563.8125</td>\n",
              "      <td>33.4375</td>\n",
              "      <td>69.818182</td>\n",
              "    </tr>\n",
              "    <tr>\n",
              "      <th>Zimbabwe</th>\n",
              "      <td>23.26250</td>\n",
              "      <td>75.6250</td>\n",
              "      <td>923.0000</td>\n",
              "      <td>26.5625</td>\n",
              "      <td>70.562500</td>\n",
              "    </tr>\n",
              "  </tbody>\n",
              "</table>\n",
              "<p>184 rows × 5 columns</p>\n",
              "</div>\n",
              "      <button class=\"colab-df-convert\" onclick=\"convertToInteractive('df-441368e7-527b-40ca-9478-6905adc0759e')\"\n",
              "              title=\"Convert this dataframe to an interactive table.\"\n",
              "              style=\"display:none;\">\n",
              "        \n",
              "  <svg xmlns=\"http://www.w3.org/2000/svg\" height=\"24px\"viewBox=\"0 0 24 24\"\n",
              "       width=\"24px\">\n",
              "    <path d=\"M0 0h24v24H0V0z\" fill=\"none\"/>\n",
              "    <path d=\"M18.56 5.44l.94 2.06.94-2.06 2.06-.94-2.06-.94-.94-2.06-.94 2.06-2.06.94zm-11 1L8.5 8.5l.94-2.06 2.06-.94-2.06-.94L8.5 2.5l-.94 2.06-2.06.94zm10 10l.94 2.06.94-2.06 2.06-.94-2.06-.94-.94-2.06-.94 2.06-2.06.94z\"/><path d=\"M17.41 7.96l-1.37-1.37c-.4-.4-.92-.59-1.43-.59-.52 0-1.04.2-1.43.59L10.3 9.45l-7.72 7.72c-.78.78-.78 2.05 0 2.83L4 21.41c.39.39.9.59 1.41.59.51 0 1.02-.2 1.41-.59l7.78-7.78 2.81-2.81c.8-.78.8-2.07 0-2.86zM5.41 20L4 18.59l7.72-7.72 1.47 1.35L5.41 20z\"/>\n",
              "  </svg>\n",
              "      </button>\n",
              "      \n",
              "  <style>\n",
              "    .colab-df-container {\n",
              "      display:flex;\n",
              "      flex-wrap:wrap;\n",
              "      gap: 12px;\n",
              "    }\n",
              "\n",
              "    .colab-df-convert {\n",
              "      background-color: #E8F0FE;\n",
              "      border: none;\n",
              "      border-radius: 50%;\n",
              "      cursor: pointer;\n",
              "      display: none;\n",
              "      fill: #1967D2;\n",
              "      height: 32px;\n",
              "      padding: 0 0 0 0;\n",
              "      width: 32px;\n",
              "    }\n",
              "\n",
              "    .colab-df-convert:hover {\n",
              "      background-color: #E2EBFA;\n",
              "      box-shadow: 0px 1px 2px rgba(60, 64, 67, 0.3), 0px 1px 3px 1px rgba(60, 64, 67, 0.15);\n",
              "      fill: #174EA6;\n",
              "    }\n",
              "\n",
              "    [theme=dark] .colab-df-convert {\n",
              "      background-color: #3B4455;\n",
              "      fill: #D2E3FC;\n",
              "    }\n",
              "\n",
              "    [theme=dark] .colab-df-convert:hover {\n",
              "      background-color: #434B5C;\n",
              "      box-shadow: 0px 1px 3px 1px rgba(0, 0, 0, 0.15);\n",
              "      filter: drop-shadow(0px 1px 2px rgba(0, 0, 0, 0.3));\n",
              "      fill: #FFFFFF;\n",
              "    }\n",
              "  </style>\n",
              "\n",
              "      <script>\n",
              "        const buttonEl =\n",
              "          document.querySelector('#df-441368e7-527b-40ca-9478-6905adc0759e button.colab-df-convert');\n",
              "        buttonEl.style.display =\n",
              "          google.colab.kernel.accessAllowed ? 'block' : 'none';\n",
              "\n",
              "        async function convertToInteractive(key) {\n",
              "          const element = document.querySelector('#df-441368e7-527b-40ca-9478-6905adc0759e');\n",
              "          const dataTable =\n",
              "            await google.colab.kernel.invokeFunction('convertToInteractive',\n",
              "                                                     [key], {});\n",
              "          if (!dataTable) return;\n",
              "\n",
              "          const docLinkHtml = 'Like what you see? Visit the ' +\n",
              "            '<a target=\"_blank\" href=https://colab.research.google.com/notebooks/data_table.ipynb>data table notebook</a>'\n",
              "            + ' to learn more about interactive tables.';\n",
              "          element.innerHTML = '';\n",
              "          dataTable['output_type'] = 'display_data';\n",
              "          await google.colab.output.renderOutput(dataTable, element);\n",
              "          const docLink = document.createElement('div');\n",
              "          docLink.innerHTML = docLinkHtml;\n",
              "          element.appendChild(docLink);\n",
              "        }\n",
              "      </script>\n",
              "    </div>\n",
              "  </div>\n",
              "  "
            ]
          },
          "metadata": {},
          "execution_count": 84
        }
      ],
      "source": [
        "mean_df.dropna(inplace = True)\n",
        "mean_df"
      ]
    },
    {
      "cell_type": "markdown",
      "id": "4c178f5b",
      "metadata": {
        "id": "4c178f5b"
      },
      "source": [
        "> 2.3.3 Then, build a new column in the dataset with a new composite index, the NHI (New Health Index). It integrates the situation of the country with regards to the HIV/AIDS, Polio, Measles, Infant deaths, Hepatitis B. The higher, the worse the situation. It needs to follow the following formula: $$BHI = 10*HIV + 2*Polio + \\sqrt{Measles} + (Infant deaths)^{2} + Hepatitis B$$"
      ]
    },
    {
      "cell_type": "code",
      "execution_count": 85,
      "id": "d49d7e81",
      "metadata": {
        "id": "d49d7e81"
      },
      "outputs": [],
      "source": [
        "mean_df['BHI']=10*mean_df['hiv/aids']+2*mean_df['polio']+np.sqrt(mean_df['measles'])+(mean_df['infantdeaths'])**2+mean_df['hepatitisb']"
      ]
    },
    {
      "cell_type": "code",
      "source": [
        "mean_df.head()"
      ],
      "metadata": {
        "colab": {
          "base_uri": "https://localhost:8080/",
          "height": 238
        },
        "id": "-AHhHB6wdBYv",
        "outputId": "b1b97207-fecf-4d6a-c60d-143617c6f527"
      },
      "id": "-AHhHB6wdBYv",
      "execution_count": null,
      "outputs": [
        {
          "output_type": "execute_result",
          "data": {
            "text/plain": [
              "                     hiv/aids    polio    measles  infantdeaths  hepatitisb  \\\n",
              "country                                                                       \n",
              "Afghanistan           0.10000  48.3750  2362.2500       78.2500   64.562500   \n",
              "Albania               0.10000  98.1250    53.3750        0.6875   98.000000   \n",
              "Algeria               0.10000  91.7500  1943.8750       20.3125   78.000000   \n",
              "Angola                2.36875  46.1250  3561.3125       83.7500   70.222222   \n",
              "Antigua and Barbuda   0.12500  96.9375     0.0000        0.0000   98.266667   \n",
              "\n",
              "                             BHI  \n",
              "country                           \n",
              "Afghanistan          6333.977983  \n",
              "Albania               303.028476  \n",
              "Algeria               719.187054  \n",
              "Angola               7259.898956  \n",
              "Antigua and Barbuda   293.391667  "
            ],
            "text/html": [
              "\n",
              "  <div id=\"df-2983343e-5e41-4e61-b1fd-f041b32001dc\">\n",
              "    <div class=\"colab-df-container\">\n",
              "      <div>\n",
              "<style scoped>\n",
              "    .dataframe tbody tr th:only-of-type {\n",
              "        vertical-align: middle;\n",
              "    }\n",
              "\n",
              "    .dataframe tbody tr th {\n",
              "        vertical-align: top;\n",
              "    }\n",
              "\n",
              "    .dataframe thead th {\n",
              "        text-align: right;\n",
              "    }\n",
              "</style>\n",
              "<table border=\"1\" class=\"dataframe\">\n",
              "  <thead>\n",
              "    <tr style=\"text-align: right;\">\n",
              "      <th></th>\n",
              "      <th>hiv/aids</th>\n",
              "      <th>polio</th>\n",
              "      <th>measles</th>\n",
              "      <th>infantdeaths</th>\n",
              "      <th>hepatitisb</th>\n",
              "      <th>BHI</th>\n",
              "    </tr>\n",
              "    <tr>\n",
              "      <th>country</th>\n",
              "      <th></th>\n",
              "      <th></th>\n",
              "      <th></th>\n",
              "      <th></th>\n",
              "      <th></th>\n",
              "      <th></th>\n",
              "    </tr>\n",
              "  </thead>\n",
              "  <tbody>\n",
              "    <tr>\n",
              "      <th>Afghanistan</th>\n",
              "      <td>0.10000</td>\n",
              "      <td>48.3750</td>\n",
              "      <td>2362.2500</td>\n",
              "      <td>78.2500</td>\n",
              "      <td>64.562500</td>\n",
              "      <td>6333.977983</td>\n",
              "    </tr>\n",
              "    <tr>\n",
              "      <th>Albania</th>\n",
              "      <td>0.10000</td>\n",
              "      <td>98.1250</td>\n",
              "      <td>53.3750</td>\n",
              "      <td>0.6875</td>\n",
              "      <td>98.000000</td>\n",
              "      <td>303.028476</td>\n",
              "    </tr>\n",
              "    <tr>\n",
              "      <th>Algeria</th>\n",
              "      <td>0.10000</td>\n",
              "      <td>91.7500</td>\n",
              "      <td>1943.8750</td>\n",
              "      <td>20.3125</td>\n",
              "      <td>78.000000</td>\n",
              "      <td>719.187054</td>\n",
              "    </tr>\n",
              "    <tr>\n",
              "      <th>Angola</th>\n",
              "      <td>2.36875</td>\n",
              "      <td>46.1250</td>\n",
              "      <td>3561.3125</td>\n",
              "      <td>83.7500</td>\n",
              "      <td>70.222222</td>\n",
              "      <td>7259.898956</td>\n",
              "    </tr>\n",
              "    <tr>\n",
              "      <th>Antigua and Barbuda</th>\n",
              "      <td>0.12500</td>\n",
              "      <td>96.9375</td>\n",
              "      <td>0.0000</td>\n",
              "      <td>0.0000</td>\n",
              "      <td>98.266667</td>\n",
              "      <td>293.391667</td>\n",
              "    </tr>\n",
              "  </tbody>\n",
              "</table>\n",
              "</div>\n",
              "      <button class=\"colab-df-convert\" onclick=\"convertToInteractive('df-2983343e-5e41-4e61-b1fd-f041b32001dc')\"\n",
              "              title=\"Convert this dataframe to an interactive table.\"\n",
              "              style=\"display:none;\">\n",
              "        \n",
              "  <svg xmlns=\"http://www.w3.org/2000/svg\" height=\"24px\"viewBox=\"0 0 24 24\"\n",
              "       width=\"24px\">\n",
              "    <path d=\"M0 0h24v24H0V0z\" fill=\"none\"/>\n",
              "    <path d=\"M18.56 5.44l.94 2.06.94-2.06 2.06-.94-2.06-.94-.94-2.06-.94 2.06-2.06.94zm-11 1L8.5 8.5l.94-2.06 2.06-.94-2.06-.94L8.5 2.5l-.94 2.06-2.06.94zm10 10l.94 2.06.94-2.06 2.06-.94-2.06-.94-.94-2.06-.94 2.06-2.06.94z\"/><path d=\"M17.41 7.96l-1.37-1.37c-.4-.4-.92-.59-1.43-.59-.52 0-1.04.2-1.43.59L10.3 9.45l-7.72 7.72c-.78.78-.78 2.05 0 2.83L4 21.41c.39.39.9.59 1.41.59.51 0 1.02-.2 1.41-.59l7.78-7.78 2.81-2.81c.8-.78.8-2.07 0-2.86zM5.41 20L4 18.59l7.72-7.72 1.47 1.35L5.41 20z\"/>\n",
              "  </svg>\n",
              "      </button>\n",
              "      \n",
              "  <style>\n",
              "    .colab-df-container {\n",
              "      display:flex;\n",
              "      flex-wrap:wrap;\n",
              "      gap: 12px;\n",
              "    }\n",
              "\n",
              "    .colab-df-convert {\n",
              "      background-color: #E8F0FE;\n",
              "      border: none;\n",
              "      border-radius: 50%;\n",
              "      cursor: pointer;\n",
              "      display: none;\n",
              "      fill: #1967D2;\n",
              "      height: 32px;\n",
              "      padding: 0 0 0 0;\n",
              "      width: 32px;\n",
              "    }\n",
              "\n",
              "    .colab-df-convert:hover {\n",
              "      background-color: #E2EBFA;\n",
              "      box-shadow: 0px 1px 2px rgba(60, 64, 67, 0.3), 0px 1px 3px 1px rgba(60, 64, 67, 0.15);\n",
              "      fill: #174EA6;\n",
              "    }\n",
              "\n",
              "    [theme=dark] .colab-df-convert {\n",
              "      background-color: #3B4455;\n",
              "      fill: #D2E3FC;\n",
              "    }\n",
              "\n",
              "    [theme=dark] .colab-df-convert:hover {\n",
              "      background-color: #434B5C;\n",
              "      box-shadow: 0px 1px 3px 1px rgba(0, 0, 0, 0.15);\n",
              "      filter: drop-shadow(0px 1px 2px rgba(0, 0, 0, 0.3));\n",
              "      fill: #FFFFFF;\n",
              "    }\n",
              "  </style>\n",
              "\n",
              "      <script>\n",
              "        const buttonEl =\n",
              "          document.querySelector('#df-2983343e-5e41-4e61-b1fd-f041b32001dc button.colab-df-convert');\n",
              "        buttonEl.style.display =\n",
              "          google.colab.kernel.accessAllowed ? 'block' : 'none';\n",
              "\n",
              "        async function convertToInteractive(key) {\n",
              "          const element = document.querySelector('#df-2983343e-5e41-4e61-b1fd-f041b32001dc');\n",
              "          const dataTable =\n",
              "            await google.colab.kernel.invokeFunction('convertToInteractive',\n",
              "                                                     [key], {});\n",
              "          if (!dataTable) return;\n",
              "\n",
              "          const docLinkHtml = 'Like what you see? Visit the ' +\n",
              "            '<a target=\"_blank\" href=https://colab.research.google.com/notebooks/data_table.ipynb>data table notebook</a>'\n",
              "            + ' to learn more about interactive tables.';\n",
              "          element.innerHTML = '';\n",
              "          dataTable['output_type'] = 'display_data';\n",
              "          await google.colab.output.renderOutput(dataTable, element);\n",
              "          const docLink = document.createElement('div');\n",
              "          docLink.innerHTML = docLinkHtml;\n",
              "          element.appendChild(docLink);\n",
              "        }\n",
              "      </script>\n",
              "    </div>\n",
              "  </div>\n",
              "  "
            ]
          },
          "metadata": {},
          "execution_count": 175
        }
      ]
    },
    {
      "cell_type": "markdown",
      "id": "03876467",
      "metadata": {
        "id": "03876467"
      },
      "source": [
        "> 2.3.4 After you added the column with the index, create another column, categorical, called \"Health risk\", which can have 4 different values:\n",
        "* Very high risk\n",
        "* High risk\n",
        "* Medium risk\n",
        "* Low risk\n",
        "> You should assign the value to each row depening on the quartile the datapoint belongs to, following the NHI. If it is in the lowest 25%, it needs to be low risk, if it's between 25 and 50%, it will be Medium, between 50 and 75% High risk, between 75% and 100% Very high risk.\n",
        "Hint: you may want to check the `qcut` function of Pandas.\n",
        "\n",
        "> Finally, count the values of each class you created. How many datapoints are \"High Risk\"?"
      ]
    },
    {
      "cell_type": "code",
      "execution_count": 86,
      "id": "662ec22b",
      "metadata": {
        "id": "662ec22b",
        "colab": {
          "base_uri": "https://localhost:8080/"
        },
        "outputId": "e0fbd630-0187-4e6c-f2ac-825a9fe68e6b"
      },
      "outputs": [
        {
          "output_type": "execute_result",
          "data": {
            "text/plain": [
              "Low risk          46\n",
              "Medium risk       46\n",
              "High risk         46\n",
              "Very high risk    46\n",
              "Name: BHI, dtype: int64"
            ]
          },
          "metadata": {},
          "execution_count": 86
        }
      ],
      "source": [
        "repartition=pd.qcut(mean_df['BHI'], [0, .25, .5, .75, 1.], [\"Low risk\", \"Medium risk\" , \"High risk\", \"Very high risk\"])\n",
        "repartition.value_counts()"
      ]
    },
    {
      "cell_type": "markdown",
      "id": "34bb4080",
      "metadata": {
        "id": "34bb4080"
      },
      "source": [
        ">2.4 Compare GDP in 2002 and in 2012. Were there any countries that had a lower GDP with respect to 2002? If so, how many?"
      ]
    },
    {
      "cell_type": "code",
      "execution_count": 87,
      "id": "15a89547",
      "metadata": {
        "id": "15a89547",
        "colab": {
          "base_uri": "https://localhost:8080/"
        },
        "outputId": "a459c10c-3a6c-429f-ae28-cf5bcfb9e5f6"
      },
      "outputs": [
        {
          "output_type": "execute_result",
          "data": {
            "text/plain": [
              "24"
            ]
          },
          "metadata": {},
          "execution_count": 87
        }
      ],
      "source": [
        "df_new = df[(df.year == 2002) | (df.year == 2012)]\n",
        "\n",
        "df_new.groupby(['country']).apply(lambda x: x[x.year == 2012].gdp.iloc[0] < x[x.year ==  2002].gdp.iloc[0]).explode().sum()"
      ]
    },
    {
      "cell_type": "markdown",
      "id": "daab9fe9",
      "metadata": {
        "id": "daab9fe9"
      },
      "source": [
        ">2.5 Generate a table with the average life expectancy by year for three different groups: \n",
        ">* for all developing countries\n",
        ">* developed countries\n",
        ">* the overall aggregated values.\n",
        "\n",
        ">Then, plot the three trends in a line plot with the aggregated values for Life expectancy on y axis and the years on the x axis.\n"
      ]
    },
    {
      "cell_type": "code",
      "execution_count": null,
      "id": "78e924e2",
      "metadata": {
        "id": "78e924e2",
        "scrolled": true,
        "colab": {
          "base_uri": "https://localhost:8080/",
          "height": 296
        },
        "outputId": "293c5fad-9c4f-449b-9f9e-b4ae40163e57"
      },
      "outputs": [
        {
          "output_type": "execute_result",
          "data": {
            "text/plain": [
              "<matplotlib.axes._subplots.AxesSubplot at 0x7fc719d67650>"
            ]
          },
          "metadata": {},
          "execution_count": 178
        },
        {
          "output_type": "display_data",
          "data": {
            "text/plain": [
              "<Figure size 432x288 with 1 Axes>"
            ],
            "image/png": "[encoded data removed]"
          },
          "metadata": {}
        }
      ],
      "source": [
        "# YOUR CODE HERE\n",
        "# Generate the table\n",
        "new_df = df.groupby(['status','year'])['lifeexpectancy'].mean().explode().reset_index()\n",
        "new_df2 = df.groupby(['year'])['lifeexpectancy'].mean().explode().reset_index()\n",
        "new_df2['status'] = 'overall'\n",
        "new_df = pd.concat([new_df,new_df2]).reset_index()\n",
        "pivot_df = new_df.pivot(index = 'year',columns = 'status',values='lifeexpectancy').reset_index()\n",
        "# Plot\n",
        "pivot_df.plot.line(x = 'year')"
      ]
    },
    {
      "cell_type": "markdown",
      "id": "778bfb22",
      "metadata": {
        "id": "778bfb22"
      },
      "source": [
        ">2.6 Draw boxplots to compare the BMI (body mass index) between developed and developing countries. Before doing so, aggregate by country and average over time the BMI for each country. Remember to remove Nans. Do developed or developing have a higher median? Which has more outliers?"
      ]
    },
    {
      "cell_type": "code",
      "execution_count": null,
      "id": "6126f14d",
      "metadata": {
        "id": "6126f14d",
        "colab": {
          "base_uri": "https://localhost:8080/",
          "height": 373
        },
        "outputId": "24df09df-0248-4530-f44f-817d8557ef9d"
      },
      "outputs": [
        {
          "output_type": "stream",
          "name": "stderr",
          "text": [
            "/usr/local/lib/python3.7/dist-packages/matplotlib/cbook/__init__.py:1376: VisibleDeprecationWarning: Creating an ndarray from ragged nested sequences (which is a list-or-tuple of lists-or-tuples-or ndarrays with different lengths or shapes) is deprecated. If you meant to do this, you must specify 'dtype=object' when creating the ndarray.\n",
            "  X = np.atleast_1d(X.T if isinstance(X, np.ndarray) else np.asarray(X))\n"
          ]
        },
        {
          "output_type": "execute_result",
          "data": {
            "text/plain": [
              "<matplotlib.axes._subplots.AxesSubplot at 0x7fc719c14bd0>"
            ]
          },
          "metadata": {},
          "execution_count": 179
        },
        {
          "output_type": "display_data",
          "data": {
            "text/plain": [
              "<Figure size 432x288 with 1 Axes>"
            ],
            "image/png": "[encoded data removed]"
          },
          "metadata": {}
        }
      ],
      "source": [
        "bmi_df = df.groupby(['country','status'])['bmi'].mean().explode().reset_index().dropna()\n",
        "bmi_df.boxplot( by = 'status')"
      ]
    },
    {
      "cell_type": "markdown",
      "source": [
        "Developed has the higher median and has more outliers than Developing"
      ],
      "metadata": {
        "id": "Ou1TSywhpxkw"
      },
      "id": "Ou1TSywhpxkw"
    },
    {
      "cell_type": "markdown",
      "id": "5f0253ef",
      "metadata": {
        "id": "5f0253ef"
      },
      "source": [
        ">2.7 Using `folium`, plot on an interactive map the life expectancy of the countries represented in the dataset. You need to have a scale of colors, the more intense the color, the higher the life expectancy of the country.\n",
        ">\n",
        "> Only include 2015 data.\n",
        ">\n",
        ">A separate geojson file with latitudes and longitudes of the countries needs to be downloaded from [here](https://datahub.io/core/geo-countries). You should use the `folium.Choropleth` method and give the geojson file as `geo_data` parameter. The `key_on` parameter should be set to `\"feature.properties.ADMIN\"` because of the structure of the json file. Make sure to drop any missing values before plotting your map.\n",
        "\n",
        "\n",
        "\n",
        "\n"
      ]
    },
    {
      "cell_type": "code",
      "execution_count": null,
      "id": "02779a11",
      "metadata": {
        "id": "02779a11"
      },
      "outputs": [],
      "source": [
        "import folium\n",
        "geo = \"countries.geojson\"\n",
        "# YOUR CODE HERE"
      ]
    },
    {
      "cell_type": "markdown",
      "id": "f2c37c70",
      "metadata": {
        "id": "f2c37c70"
      },
      "source": [
        "## Before regression: One Hot Encoding"
      ]
    },
    {
      "cell_type": "markdown",
      "id": "697d3601",
      "metadata": {
        "id": "697d3601"
      },
      "source": [
        "Before moving on to the regression, we need to transform the categorical variables as dummy variables for the regression. In order to do so, we use a [One Hot Encoder](https://scikit-learn.org/stable/modules/generated/sklearn.preprocessing.OneHotEncoder.html). Pay attention: we need to consider \"year\" as a categorical variable as well, as it is not a continuous one. So the two features that you need to encode are: Year and Status. Add the features to the dataset. \n",
        "Reminder: when encoding n categories, we need to add n-1 features to avoid multicollinearity - the \"Dummy variable trap\"."
      ]
    },
    {
      "cell_type": "markdown",
      "id": "08213906",
      "metadata": {
        "id": "08213906"
      },
      "source": [
        ">2.8 How many features does the dataframe have now, after adding n-1 columns for year and m-1 for status, where n and m are respectively the number of categories possible?"
      ]
    },
    {
      "cell_type": "code",
      "execution_count": 124,
      "id": "ea84e615",
      "metadata": {
        "id": "ea84e615"
      },
      "outputs": [],
      "source": [
        "from sklearn.preprocessing import OneHotEncoder"
      ]
    },
    {
      "cell_type": "code",
      "execution_count": null,
      "id": "66faa2ac",
      "metadata": {
        "id": "66faa2ac"
      },
      "outputs": [],
      "source": [
        "# YOUR CODE HERE\n"
      ]
    },
    {
      "cell_type": "markdown",
      "id": "cddc6205",
      "metadata": {
        "id": "cddc6205"
      },
      "source": [
        "## 3. Regression Analysis\n",
        "### 3.1 Intro to regression"
      ]
    },
    {
      "cell_type": "markdown",
      "id": "733c071c",
      "metadata": {
        "id": "733c071c"
      },
      "source": [
        "For this section we will try to build a model to predict the life expectancy, given other data regarding a country. Here we are providing the cleaned dataframe for you. The regression dataset is the same you've been working on until now with some additional cleaning. The features available are the following:\n",
        "* Alcohol\n",
        "* Schooling\n",
        "* GDP\n",
        "* Life expectancy\n",
        "* Percentage expenditure\n",
        "* One dummy feature for each year except for 1 (2000,2001,2002,...)\n",
        "* One dummy feature \"Developing\" indicating whether the country is a developing one or not"
      ]
    },
    {
      "cell_type": "markdown",
      "id": "58296995",
      "metadata": {
        "id": "58296995"
      },
      "source": [
        ">Load the data."
      ]
    },
    {
      "cell_type": "code",
      "execution_count": 131,
      "id": "ee725745",
      "metadata": {
        "id": "ee725745"
      },
      "outputs": [],
      "source": [
        "#Upload the data\n",
        "new_data = pd.read_csv(\"Regression Analysis Data\")"
      ]
    },
    {
      "cell_type": "code",
      "execution_count": 24,
      "id": "3dc64839",
      "metadata": {
        "id": "3dc64839",
        "colab": {
          "base_uri": "https://localhost:8080/",
          "height": 411
        },
        "outputId": "c086f296-a804-4e4d-8115-ef8f40cbc0ee"
      },
      "outputs": [
        {
          "output_type": "execute_result",
          "data": {
            "text/plain": [
              "              Year  Life expectancy      Alcohol  Percentage expenditure  \\\n",
              "count  2117.000000      2117.000000  2117.000000             2117.000000   \n",
              "mean   2007.004251        68.629003     4.712300              897.159420   \n",
              "std       4.321822         9.874433     4.048895             2236.390076   \n",
              "min    2000.000000        36.300000     0.010000                0.000000   \n",
              "25%    2003.000000        62.100000     0.970000               31.594159   \n",
              "50%    2007.000000        71.400000     4.080000              126.698109   \n",
              "75%    2011.000000        75.400000     7.560000              549.809610   \n",
              "max    2015.000000        89.000000    17.870000            19479.911610   \n",
              "\n",
              "                 Gdp    Population    Schooling         2000         2001  \\\n",
              "count    2117.000000  2.117000e+03  2117.000000  2117.000000  2117.000000   \n",
              "mean     6678.433958  1.296805e+07    11.883562     0.066131     0.066604   \n",
              "std     13754.819775  6.294690e+07     3.353225     0.248570     0.249393   \n",
              "min         1.681350  3.400000e+01     0.000000     0.000000     0.000000   \n",
              "25%       418.292176  1.923120e+05     9.900000     0.000000     0.000000   \n",
              "50%      1461.671957  1.354775e+06    12.100000     0.000000     0.000000   \n",
              "75%      4981.198619  7.295394e+06    14.300000     0.000000     0.000000   \n",
              "max    119172.741800  1.293859e+09    20.700000     1.000000     1.000000   \n",
              "\n",
              "              2002  ...         2006         2007         2008         2009  \\\n",
              "count  2117.000000  ...  2117.000000  2117.000000  2117.000000  2117.000000   \n",
              "mean      0.066604  ...     0.067076     0.067076     0.066604     0.066604   \n",
              "std       0.249393  ...     0.250213     0.250213     0.249393     0.249393   \n",
              "min       0.000000  ...     0.000000     0.000000     0.000000     0.000000   \n",
              "25%       0.000000  ...     0.000000     0.000000     0.000000     0.000000   \n",
              "50%       0.000000  ...     0.000000     0.000000     0.000000     0.000000   \n",
              "75%       0.000000  ...     0.000000     0.000000     0.000000     0.000000   \n",
              "max       1.000000  ...     1.000000     1.000000     1.000000     1.000000   \n",
              "\n",
              "              2010         2011         2012         2013         2014  \\\n",
              "count  2117.000000  2117.000000  2117.000000  2117.000000  2117.000000   \n",
              "mean      0.066604     0.066604     0.066131     0.066131     0.066131   \n",
              "std       0.249393     0.249393     0.248570     0.248570     0.248570   \n",
              "min       0.000000     0.000000     0.000000     0.000000     0.000000   \n",
              "25%       0.000000     0.000000     0.000000     0.000000     0.000000   \n",
              "50%       0.000000     0.000000     0.000000     0.000000     0.000000   \n",
              "75%       0.000000     0.000000     0.000000     0.000000     0.000000   \n",
              "max       1.000000     1.000000     1.000000     1.000000     1.000000   \n",
              "\n",
              "        Developing  \n",
              "count  2117.000000  \n",
              "mean      0.815305  \n",
              "std       0.388142  \n",
              "min       0.000000  \n",
              "25%       1.000000  \n",
              "50%       1.000000  \n",
              "75%       1.000000  \n",
              "max       1.000000  \n",
              "\n",
              "[8 rows x 23 columns]"
            ],
            "text/html": [
              "\n",
              "  <div id=\"df-4e180f7a-d608-43c9-851d-7d2ea56b5e7f\">\n",
              "    <div class=\"colab-df-container\">\n",
              "      <div>\n",
              "<style scoped>\n",
              "    .dataframe tbody tr th:only-of-type {\n",
              "        vertical-align: middle;\n",
              "    }\n",
              "\n",
              "    .dataframe tbody tr th {\n",
              "        vertical-align: top;\n",
              "    }\n",
              "\n",
              "    .dataframe thead th {\n",
              "        text-align: right;\n",
              "    }\n",
              "</style>\n",
              "<table border=\"1\" class=\"dataframe\">\n",
              "  <thead>\n",
              "    <tr style=\"text-align: right;\">\n",
              "      <th></th>\n",
              "      <th>Year</th>\n",
              "      <th>Life expectancy</th>\n",
              "      <th>Alcohol</th>\n",
              "      <th>Percentage expenditure</th>\n",
              "      <th>Gdp</th>\n",
              "      <th>Population</th>\n",
              "      <th>Schooling</th>\n",
              "      <th>2000</th>\n",
              "      <th>2001</th>\n",
              "      <th>2002</th>\n",
              "      <th>...</th>\n",
              "      <th>2006</th>\n",
              "      <th>2007</th>\n",
              "      <th>2008</th>\n",
              "      <th>2009</th>\n",
              "      <th>2010</th>\n",
              "      <th>2011</th>\n",
              "      <th>2012</th>\n",
              "      <th>2013</th>\n",
              "      <th>2014</th>\n",
              "      <th>Developing</th>\n",
              "    </tr>\n",
              "  </thead>\n",
              "  <tbody>\n",
              "    <tr>\n",
              "      <th>count</th>\n",
              "      <td>2117.000000</td>\n",
              "      <td>2117.000000</td>\n",
              "      <td>2117.000000</td>\n",
              "      <td>2117.000000</td>\n",
              "      <td>2117.000000</td>\n",
              "      <td>2.117000e+03</td>\n",
              "      <td>2117.000000</td>\n",
              "      <td>2117.000000</td>\n",
              "      <td>2117.000000</td>\n",
              "      <td>2117.000000</td>\n",
              "      <td>...</td>\n",
              "      <td>2117.000000</td>\n",
              "      <td>2117.000000</td>\n",
              "      <td>2117.000000</td>\n",
              "      <td>2117.000000</td>\n",
              "      <td>2117.000000</td>\n",
              "      <td>2117.000000</td>\n",
              "      <td>2117.000000</td>\n",
              "      <td>2117.000000</td>\n",
              "      <td>2117.000000</td>\n",
              "      <td>2117.000000</td>\n",
              "    </tr>\n",
              "    <tr>\n",
              "      <th>mean</th>\n",
              "      <td>2007.004251</td>\n",
              "      <td>68.629003</td>\n",
              "      <td>4.712300</td>\n",
              "      <td>897.159420</td>\n",
              "      <td>6678.433958</td>\n",
              "      <td>1.296805e+07</td>\n",
              "      <td>11.883562</td>\n",
              "      <td>0.066131</td>\n",
              "      <td>0.066604</td>\n",
              "      <td>0.066604</td>\n",
              "      <td>...</td>\n",
              "      <td>0.067076</td>\n",
              "      <td>0.067076</td>\n",
              "      <td>0.066604</td>\n",
              "      <td>0.066604</td>\n",
              "      <td>0.066604</td>\n",
              "      <td>0.066604</td>\n",
              "      <td>0.066131</td>\n",
              "      <td>0.066131</td>\n",
              "      <td>0.066131</td>\n",
              "      <td>0.815305</td>\n",
              "    </tr>\n",
              "    <tr>\n",
              "      <th>std</th>\n",
              "      <td>4.321822</td>\n",
              "      <td>9.874433</td>\n",
              "      <td>4.048895</td>\n",
              "      <td>2236.390076</td>\n",
              "      <td>13754.819775</td>\n",
              "      <td>6.294690e+07</td>\n",
              "      <td>3.353225</td>\n",
              "      <td>0.248570</td>\n",
              "      <td>0.249393</td>\n",
              "      <td>0.249393</td>\n",
              "      <td>...</td>\n",
              "      <td>0.250213</td>\n",
              "      <td>0.250213</td>\n",
              "      <td>0.249393</td>\n",
              "      <td>0.249393</td>\n",
              "      <td>0.249393</td>\n",
              "      <td>0.249393</td>\n",
              "      <td>0.248570</td>\n",
              "      <td>0.248570</td>\n",
              "      <td>0.248570</td>\n",
              "      <td>0.388142</td>\n",
              "    </tr>\n",
              "    <tr>\n",
              "      <th>min</th>\n",
              "      <td>2000.000000</td>\n",
              "      <td>36.300000</td>\n",
              "      <td>0.010000</td>\n",
              "      <td>0.000000</td>\n",
              "      <td>1.681350</td>\n",
              "      <td>3.400000e+01</td>\n",
              "      <td>0.000000</td>\n",
              "      <td>0.000000</td>\n",
              "      <td>0.000000</td>\n",
              "      <td>0.000000</td>\n",
              "      <td>...</td>\n",
              "      <td>0.000000</td>\n",
              "      <td>0.000000</td>\n",
              "      <td>0.000000</td>\n",
              "      <td>0.000000</td>\n",
              "      <td>0.000000</td>\n",
              "      <td>0.000000</td>\n",
              "      <td>0.000000</td>\n",
              "      <td>0.000000</td>\n",
              "      <td>0.000000</td>\n",
              "      <td>0.000000</td>\n",
              "    </tr>\n",
              "    <tr>\n",
              "      <th>25%</th>\n",
              "      <td>2003.000000</td>\n",
              "      <td>62.100000</td>\n",
              "      <td>0.970000</td>\n",
              "      <td>31.594159</td>\n",
              "      <td>418.292176</td>\n",
              "      <td>1.923120e+05</td>\n",
              "      <td>9.900000</td>\n",
              "      <td>0.000000</td>\n",
              "      <td>0.000000</td>\n",
              "      <td>0.000000</td>\n",
              "      <td>...</td>\n",
              "      <td>0.000000</td>\n",
              "      <td>0.000000</td>\n",
              "      <td>0.000000</td>\n",
              "      <td>0.000000</td>\n",
              "      <td>0.000000</td>\n",
              "      <td>0.000000</td>\n",
              "      <td>0.000000</td>\n",
              "      <td>0.000000</td>\n",
              "      <td>0.000000</td>\n",
              "      <td>1.000000</td>\n",
              "    </tr>\n",
              "    <tr>\n",
              "      <th>50%</th>\n",
              "      <td>2007.000000</td>\n",
              "      <td>71.400000</td>\n",
              "      <td>4.080000</td>\n",
              "      <td>126.698109</td>\n",
              "      <td>1461.671957</td>\n",
              "      <td>1.354775e+06</td>\n",
              "      <td>12.100000</td>\n",
              "      <td>0.000000</td>\n",
              "      <td>0.000000</td>\n",
              "      <td>0.000000</td>\n",
              "      <td>...</td>\n",
              "      <td>0.000000</td>\n",
              "      <td>0.000000</td>\n",
              "      <td>0.000000</td>\n",
              "      <td>0.000000</td>\n",
              "      <td>0.000000</td>\n",
              "      <td>0.000000</td>\n",
              "      <td>0.000000</td>\n",
              "      <td>0.000000</td>\n",
              "      <td>0.000000</td>\n",
              "      <td>1.000000</td>\n",
              "    </tr>\n",
              "    <tr>\n",
              "      <th>75%</th>\n",
              "      <td>2011.000000</td>\n",
              "      <td>75.400000</td>\n",
              "      <td>7.560000</td>\n",
              "      <td>549.809610</td>\n",
              "      <td>4981.198619</td>\n",
              "      <td>7.295394e+06</td>\n",
              "      <td>14.300000</td>\n",
              "      <td>0.000000</td>\n",
              "      <td>0.000000</td>\n",
              "      <td>0.000000</td>\n",
              "      <td>...</td>\n",
              "      <td>0.000000</td>\n",
              "      <td>0.000000</td>\n",
              "      <td>0.000000</td>\n",
              "      <td>0.000000</td>\n",
              "      <td>0.000000</td>\n",
              "      <td>0.000000</td>\n",
              "      <td>0.000000</td>\n",
              "      <td>0.000000</td>\n",
              "      <td>0.000000</td>\n",
              "      <td>1.000000</td>\n",
              "    </tr>\n",
              "    <tr>\n",
              "      <th>max</th>\n",
              "      <td>2015.000000</td>\n",
              "      <td>89.000000</td>\n",
              "      <td>17.870000</td>\n",
              "      <td>19479.911610</td>\n",
              "      <td>119172.741800</td>\n",
              "      <td>1.293859e+09</td>\n",
              "      <td>20.700000</td>\n",
              "      <td>1.000000</td>\n",
              "      <td>1.000000</td>\n",
              "      <td>1.000000</td>\n",
              "      <td>...</td>\n",
              "      <td>1.000000</td>\n",
              "      <td>1.000000</td>\n",
              "      <td>1.000000</td>\n",
              "      <td>1.000000</td>\n",
              "      <td>1.000000</td>\n",
              "      <td>1.000000</td>\n",
              "      <td>1.000000</td>\n",
              "      <td>1.000000</td>\n",
              "      <td>1.000000</td>\n",
              "      <td>1.000000</td>\n",
              "    </tr>\n",
              "  </tbody>\n",
              "</table>\n",
              "<p>8 rows × 23 columns</p>\n",
              "</div>\n",
              "      <button class=\"colab-df-convert\" onclick=\"convertToInteractive('df-4e180f7a-d608-43c9-851d-7d2ea56b5e7f')\"\n",
              "              title=\"Convert this dataframe to an interactive table.\"\n",
              "              style=\"display:none;\">\n",
              "        \n",
              "  <svg xmlns=\"http://www.w3.org/2000/svg\" height=\"24px\"viewBox=\"0 0 24 24\"\n",
              "       width=\"24px\">\n",
              "    <path d=\"M0 0h24v24H0V0z\" fill=\"none\"/>\n",
              "    <path d=\"M18.56 5.44l.94 2.06.94-2.06 2.06-.94-2.06-.94-.94-2.06-.94 2.06-2.06.94zm-11 1L8.5 8.5l.94-2.06 2.06-.94-2.06-.94L8.5 2.5l-.94 2.06-2.06.94zm10 10l.94 2.06.94-2.06 2.06-.94-2.06-.94-.94-2.06-.94 2.06-2.06.94z\"/><path d=\"M17.41 7.96l-1.37-1.37c-.4-.4-.92-.59-1.43-.59-.52 0-1.04.2-1.43.59L10.3 9.45l-7.72 7.72c-.78.78-.78 2.05 0 2.83L4 21.41c.39.39.9.59 1.41.59.51 0 1.02-.2 1.41-.59l7.78-7.78 2.81-2.81c.8-.78.8-2.07 0-2.86zM5.41 20L4 18.59l7.72-7.72 1.47 1.35L5.41 20z\"/>\n",
              "  </svg>\n",
              "      </button>\n",
              "      \n",
              "  <style>\n",
              "    .colab-df-container {\n",
              "      display:flex;\n",
              "      flex-wrap:wrap;\n",
              "      gap: 12px;\n",
              "    }\n",
              "\n",
              "    .colab-df-convert {\n",
              "      background-color: #E8F0FE;\n",
              "      border: none;\n",
              "      border-radius: 50%;\n",
              "      cursor: pointer;\n",
              "      display: none;\n",
              "      fill: #1967D2;\n",
              "      height: 32px;\n",
              "      padding: 0 0 0 0;\n",
              "      width: 32px;\n",
              "    }\n",
              "\n",
              "    .colab-df-convert:hover {\n",
              "      background-color: #E2EBFA;\n",
              "      box-shadow: 0px 1px 2px rgba(60, 64, 67, 0.3), 0px 1px 3px 1px rgba(60, 64, 67, 0.15);\n",
              "      fill: #174EA6;\n",
              "    }\n",
              "\n",
              "    [theme=dark] .colab-df-convert {\n",
              "      background-color: #3B4455;\n",
              "      fill: #D2E3FC;\n",
              "    }\n",
              "\n",
              "    [theme=dark] .colab-df-convert:hover {\n",
              "      background-color: #434B5C;\n",
              "      box-shadow: 0px 1px 3px 1px rgba(0, 0, 0, 0.15);\n",
              "      filter: drop-shadow(0px 1px 2px rgba(0, 0, 0, 0.3));\n",
              "      fill: #FFFFFF;\n",
              "    }\n",
              "  </style>\n",
              "\n",
              "      <script>\n",
              "        const buttonEl =\n",
              "          document.querySelector('#df-4e180f7a-d608-43c9-851d-7d2ea56b5e7f button.colab-df-convert');\n",
              "        buttonEl.style.display =\n",
              "          google.colab.kernel.accessAllowed ? 'block' : 'none';\n",
              "\n",
              "        async function convertToInteractive(key) {\n",
              "          const element = document.querySelector('#df-4e180f7a-d608-43c9-851d-7d2ea56b5e7f');\n",
              "          const dataTable =\n",
              "            await google.colab.kernel.invokeFunction('convertToInteractive',\n",
              "                                                     [key], {});\n",
              "          if (!dataTable) return;\n",
              "\n",
              "          const docLinkHtml = 'Like what you see? Visit the ' +\n",
              "            '<a target=\"_blank\" href=https://colab.research.google.com/notebooks/data_table.ipynb>data table notebook</a>'\n",
              "            + ' to learn more about interactive tables.';\n",
              "          element.innerHTML = '';\n",
              "          dataTable['output_type'] = 'display_data';\n",
              "          await google.colab.output.renderOutput(dataTable, element);\n",
              "          const docLink = document.createElement('div');\n",
              "          docLink.innerHTML = docLinkHtml;\n",
              "          element.appendChild(docLink);\n",
              "        }\n",
              "      </script>\n",
              "    </div>\n",
              "  </div>\n",
              "  "
            ]
          },
          "metadata": {},
          "execution_count": 24
        }
      ],
      "source": [
        "# YOUR CODE HERE\n",
        "new_data.describe()"
      ]
    },
    {
      "cell_type": "markdown",
      "id": "cffa904b",
      "metadata": {
        "id": "cffa904b"
      },
      "source": [
        ">3.1.2. Plot the distribution of life expectancy in 2000 and in 2012. Then create a new column equal to the natural logarithm of life expectancy and plot its histogram as well, just for year 2000."
      ]
    },
    {
      "cell_type": "code",
      "source": [
        "new_data.head(100)"
      ],
      "metadata": {
        "colab": {
          "base_uri": "https://localhost:8080/",
          "height": 522
        },
        "id": "ozmx-VG271_b",
        "outputId": "a5c57c83-0644-4a05-a0d8-ad82d70d5e54"
      },
      "id": "ozmx-VG271_b",
      "execution_count": 63,
      "outputs": [
        {
          "output_type": "execute_result",
          "data": {
            "text/plain": [
              "        Country  Life expectancy  Alcohol  Percentage expenditure  \\\n",
              "0   Afghanistan             65.0     0.01               71.279624   \n",
              "1   Afghanistan             59.9     0.01               73.523582   \n",
              "2   Afghanistan             59.9     0.01               73.219243   \n",
              "3   Afghanistan             59.5     0.01               78.184215   \n",
              "4   Afghanistan             59.2     0.01                7.097109   \n",
              "..          ...              ...      ...                     ...   \n",
              "95    Australia             82.0    10.30            10986.265270   \n",
              "96    Australia             81.9    10.52             8875.786493   \n",
              "97    Australia             81.7    10.62             7172.275229   \n",
              "98    Australia             81.3    10.76             8547.292357   \n",
              "99    Australia             81.3    10.56              872.598609   \n",
              "\n",
              "             Gdp  Population  Schooling  2000  2001  2002  ...  2007  2008  \\\n",
              "0     584.259210  33736494.0       10.1   0.0   0.0   0.0  ...   0.0   0.0   \n",
              "1     612.696514    327582.0       10.0   0.0   0.0   0.0  ...   0.0   0.0   \n",
              "2     631.744976  31731688.0        9.9   0.0   0.0   0.0  ...   0.0   0.0   \n",
              "3     669.959000   3696958.0        9.8   0.0   0.0   0.0  ...   0.0   0.0   \n",
              "4      63.537231   2978599.0        9.5   0.0   0.0   0.0  ...   0.0   0.0   \n",
              "..           ...         ...        ...   ...   ...   ...  ...   ...   ...   \n",
              "95  62245.129000    223424.0       19.8   0.0   0.0   0.0  ...   0.0   0.0   \n",
              "96  51874.848000    223175.0       19.5   0.0   0.0   0.0  ...   0.0   0.0   \n",
              "97  42742.998980    216917.0       19.1   0.0   0.0   0.0  ...   0.0   0.0   \n",
              "98  49664.685400    212492.0       19.1   0.0   0.0   0.0  ...   0.0   1.0   \n",
              "99   4991.982890     28276.0       19.0   0.0   0.0   0.0  ...   1.0   0.0   \n",
              "\n",
              "    2009  2010  2011  2012  2013  2014  Developing  \\\n",
              "0    0.0   0.0   0.0   0.0   0.0   0.0         1.0   \n",
              "1    0.0   0.0   0.0   0.0   0.0   1.0         1.0   \n",
              "2    0.0   0.0   0.0   0.0   1.0   0.0         1.0   \n",
              "3    0.0   0.0   0.0   1.0   0.0   0.0         1.0   \n",
              "4    0.0   0.0   1.0   0.0   0.0   0.0         1.0   \n",
              "..   ...   ...   ...   ...   ...   ...         ...   \n",
              "95   0.0   0.0   1.0   0.0   0.0   0.0         0.0   \n",
              "96   0.0   1.0   0.0   0.0   0.0   0.0         0.0   \n",
              "97   1.0   0.0   0.0   0.0   0.0   0.0         0.0   \n",
              "98   0.0   0.0   0.0   0.0   0.0   0.0         0.0   \n",
              "99   0.0   0.0   0.0   0.0   0.0   0.0         0.0   \n",
              "\n",
              "    logarithm of life expectancy  \n",
              "0                       1.812913  \n",
              "1                       1.777427  \n",
              "2                       1.777427  \n",
              "3                       1.774517  \n",
              "4                       1.772322  \n",
              "..                           ...  \n",
              "95                      1.913814  \n",
              "96                      1.913284  \n",
              "97                      1.912222  \n",
              "98                      1.910091  \n",
              "99                      1.910091  \n",
              "\n",
              "[100 rows x 24 columns]"
            ],
            "text/html": [
              "\n",
              "  <div id=\"df-e54a7b44-6b66-4fb2-9628-7e1343c8aa95\">\n",
              "    <div class=\"colab-df-container\">\n",
              "      <div>\n",
              "<style scoped>\n",
              "    .dataframe tbody tr th:only-of-type {\n",
              "        vertical-align: middle;\n",
              "    }\n",
              "\n",
              "    .dataframe tbody tr th {\n",
              "        vertical-align: top;\n",
              "    }\n",
              "\n",
              "    .dataframe thead th {\n",
              "        text-align: right;\n",
              "    }\n",
              "</style>\n",
              "<table border=\"1\" class=\"dataframe\">\n",
              "  <thead>\n",
              "    <tr style=\"text-align: right;\">\n",
              "      <th></th>\n",
              "      <th>Country</th>\n",
              "      <th>Life expectancy</th>\n",
              "      <th>Alcohol</th>\n",
              "      <th>Percentage expenditure</th>\n",
              "      <th>Gdp</th>\n",
              "      <th>Population</th>\n",
              "      <th>Schooling</th>\n",
              "      <th>2000</th>\n",
              "      <th>2001</th>\n",
              "      <th>2002</th>\n",
              "      <th>...</th>\n",
              "      <th>2007</th>\n",
              "      <th>2008</th>\n",
              "      <th>2009</th>\n",
              "      <th>2010</th>\n",
              "      <th>2011</th>\n",
              "      <th>2012</th>\n",
              "      <th>2013</th>\n",
              "      <th>2014</th>\n",
              "      <th>Developing</th>\n",
              "      <th>logarithm of life expectancy</th>\n",
              "    </tr>\n",
              "  </thead>\n",
              "  <tbody>\n",
              "    <tr>\n",
              "      <th>0</th>\n",
              "      <td>Afghanistan</td>\n",
              "      <td>65.0</td>\n",
              "      <td>0.01</td>\n",
              "      <td>71.279624</td>\n",
              "      <td>584.259210</td>\n",
              "      <td>33736494.0</td>\n",
              "      <td>10.1</td>\n",
              "      <td>0.0</td>\n",
              "      <td>0.0</td>\n",
              "      <td>0.0</td>\n",
              "      <td>...</td>\n",
              "      <td>0.0</td>\n",
              "      <td>0.0</td>\n",
              "      <td>0.0</td>\n",
              "      <td>0.0</td>\n",
              "      <td>0.0</td>\n",
              "      <td>0.0</td>\n",
              "      <td>0.0</td>\n",
              "      <td>0.0</td>\n",
              "      <td>1.0</td>\n",
              "      <td>1.812913</td>\n",
              "    </tr>\n",
              "    <tr>\n",
              "      <th>1</th>\n",
              "      <td>Afghanistan</td>\n",
              "      <td>59.9</td>\n",
              "      <td>0.01</td>\n",
              "      <td>73.523582</td>\n",
              "      <td>612.696514</td>\n",
              "      <td>327582.0</td>\n",
              "      <td>10.0</td>\n",
              "      <td>0.0</td>\n",
              "      <td>0.0</td>\n",
              "      <td>0.0</td>\n",
              "      <td>...</td>\n",
              "      <td>0.0</td>\n",
              "      <td>0.0</td>\n",
              "      <td>0.0</td>\n",
              "      <td>0.0</td>\n",
              "      <td>0.0</td>\n",
              "      <td>0.0</td>\n",
              "      <td>0.0</td>\n",
              "      <td>1.0</td>\n",
              "      <td>1.0</td>\n",
              "      <td>1.777427</td>\n",
              "    </tr>\n",
              "    <tr>\n",
              "      <th>2</th>\n",
              "      <td>Afghanistan</td>\n",
              "      <td>59.9</td>\n",
              "      <td>0.01</td>\n",
              "      <td>73.219243</td>\n",
              "      <td>631.744976</td>\n",
              "      <td>31731688.0</td>\n",
              "      <td>9.9</td>\n",
              "      <td>0.0</td>\n",
              "      <td>0.0</td>\n",
              "      <td>0.0</td>\n",
              "      <td>...</td>\n",
              "      <td>0.0</td>\n",
              "      <td>0.0</td>\n",
              "      <td>0.0</td>\n",
              "      <td>0.0</td>\n",
              "      <td>0.0</td>\n",
              "      <td>0.0</td>\n",
              "      <td>1.0</td>\n",
              "      <td>0.0</td>\n",
              "      <td>1.0</td>\n",
              "      <td>1.777427</td>\n",
              "    </tr>\n",
              "    <tr>\n",
              "      <th>3</th>\n",
              "      <td>Afghanistan</td>\n",
              "      <td>59.5</td>\n",
              "      <td>0.01</td>\n",
              "      <td>78.184215</td>\n",
              "      <td>669.959000</td>\n",
              "      <td>3696958.0</td>\n",
              "      <td>9.8</td>\n",
              "      <td>0.0</td>\n",
              "      <td>0.0</td>\n",
              "      <td>0.0</td>\n",
              "      <td>...</td>\n",
              "      <td>0.0</td>\n",
              "      <td>0.0</td>\n",
              "      <td>0.0</td>\n",
              "      <td>0.0</td>\n",
              "      <td>0.0</td>\n",
              "      <td>1.0</td>\n",
              "      <td>0.0</td>\n",
              "      <td>0.0</td>\n",
              "      <td>1.0</td>\n",
              "      <td>1.774517</td>\n",
              "    </tr>\n",
              "    <tr>\n",
              "      <th>4</th>\n",
              "      <td>Afghanistan</td>\n",
              "      <td>59.2</td>\n",
              "      <td>0.01</td>\n",
              "      <td>7.097109</td>\n",
              "      <td>63.537231</td>\n",
              "      <td>2978599.0</td>\n",
              "      <td>9.5</td>\n",
              "      <td>0.0</td>\n",
              "      <td>0.0</td>\n",
              "      <td>0.0</td>\n",
              "      <td>...</td>\n",
              "      <td>0.0</td>\n",
              "      <td>0.0</td>\n",
              "      <td>0.0</td>\n",
              "      <td>0.0</td>\n",
              "      <td>1.0</td>\n",
              "      <td>0.0</td>\n",
              "      <td>0.0</td>\n",
              "      <td>0.0</td>\n",
              "      <td>1.0</td>\n",
              "      <td>1.772322</td>\n",
              "    </tr>\n",
              "    <tr>\n",
              "      <th>...</th>\n",
              "      <td>...</td>\n",
              "      <td>...</td>\n",
              "      <td>...</td>\n",
              "      <td>...</td>\n",
              "      <td>...</td>\n",
              "      <td>...</td>\n",
              "      <td>...</td>\n",
              "      <td>...</td>\n",
              "      <td>...</td>\n",
              "      <td>...</td>\n",
              "      <td>...</td>\n",
              "      <td>...</td>\n",
              "      <td>...</td>\n",
              "      <td>...</td>\n",
              "      <td>...</td>\n",
              "      <td>...</td>\n",
              "      <td>...</td>\n",
              "      <td>...</td>\n",
              "      <td>...</td>\n",
              "      <td>...</td>\n",
              "      <td>...</td>\n",
              "    </tr>\n",
              "    <tr>\n",
              "      <th>95</th>\n",
              "      <td>Australia</td>\n",
              "      <td>82.0</td>\n",
              "      <td>10.30</td>\n",
              "      <td>10986.265270</td>\n",
              "      <td>62245.129000</td>\n",
              "      <td>223424.0</td>\n",
              "      <td>19.8</td>\n",
              "      <td>0.0</td>\n",
              "      <td>0.0</td>\n",
              "      <td>0.0</td>\n",
              "      <td>...</td>\n",
              "      <td>0.0</td>\n",
              "      <td>0.0</td>\n",
              "      <td>0.0</td>\n",
              "      <td>0.0</td>\n",
              "      <td>1.0</td>\n",
              "      <td>0.0</td>\n",
              "      <td>0.0</td>\n",
              "      <td>0.0</td>\n",
              "      <td>0.0</td>\n",
              "      <td>1.913814</td>\n",
              "    </tr>\n",
              "    <tr>\n",
              "      <th>96</th>\n",
              "      <td>Australia</td>\n",
              "      <td>81.9</td>\n",
              "      <td>10.52</td>\n",
              "      <td>8875.786493</td>\n",
              "      <td>51874.848000</td>\n",
              "      <td>223175.0</td>\n",
              "      <td>19.5</td>\n",
              "      <td>0.0</td>\n",
              "      <td>0.0</td>\n",
              "      <td>0.0</td>\n",
              "      <td>...</td>\n",
              "      <td>0.0</td>\n",
              "      <td>0.0</td>\n",
              "      <td>0.0</td>\n",
              "      <td>1.0</td>\n",
              "      <td>0.0</td>\n",
              "      <td>0.0</td>\n",
              "      <td>0.0</td>\n",
              "      <td>0.0</td>\n",
              "      <td>0.0</td>\n",
              "      <td>1.913284</td>\n",
              "    </tr>\n",
              "    <tr>\n",
              "      <th>97</th>\n",
              "      <td>Australia</td>\n",
              "      <td>81.7</td>\n",
              "      <td>10.62</td>\n",
              "      <td>7172.275229</td>\n",
              "      <td>42742.998980</td>\n",
              "      <td>216917.0</td>\n",
              "      <td>19.1</td>\n",
              "      <td>0.0</td>\n",
              "      <td>0.0</td>\n",
              "      <td>0.0</td>\n",
              "      <td>...</td>\n",
              "      <td>0.0</td>\n",
              "      <td>0.0</td>\n",
              "      <td>1.0</td>\n",
              "      <td>0.0</td>\n",
              "      <td>0.0</td>\n",
              "      <td>0.0</td>\n",
              "      <td>0.0</td>\n",
              "      <td>0.0</td>\n",
              "      <td>0.0</td>\n",
              "      <td>1.912222</td>\n",
              "    </tr>\n",
              "    <tr>\n",
              "      <th>98</th>\n",
              "      <td>Australia</td>\n",
              "      <td>81.3</td>\n",
              "      <td>10.76</td>\n",
              "      <td>8547.292357</td>\n",
              "      <td>49664.685400</td>\n",
              "      <td>212492.0</td>\n",
              "      <td>19.1</td>\n",
              "      <td>0.0</td>\n",
              "      <td>0.0</td>\n",
              "      <td>0.0</td>\n",
              "      <td>...</td>\n",
              "      <td>0.0</td>\n",
              "      <td>1.0</td>\n",
              "      <td>0.0</td>\n",
              "      <td>0.0</td>\n",
              "      <td>0.0</td>\n",
              "      <td>0.0</td>\n",
              "      <td>0.0</td>\n",
              "      <td>0.0</td>\n",
              "      <td>0.0</td>\n",
              "      <td>1.910091</td>\n",
              "    </tr>\n",
              "    <tr>\n",
              "      <th>99</th>\n",
              "      <td>Australia</td>\n",
              "      <td>81.3</td>\n",
              "      <td>10.56</td>\n",
              "      <td>872.598609</td>\n",
              "      <td>4991.982890</td>\n",
              "      <td>28276.0</td>\n",
              "      <td>19.0</td>\n",
              "      <td>0.0</td>\n",
              "      <td>0.0</td>\n",
              "      <td>0.0</td>\n",
              "      <td>...</td>\n",
              "      <td>1.0</td>\n",
              "      <td>0.0</td>\n",
              "      <td>0.0</td>\n",
              "      <td>0.0</td>\n",
              "      <td>0.0</td>\n",
              "      <td>0.0</td>\n",
              "      <td>0.0</td>\n",
              "      <td>0.0</td>\n",
              "      <td>0.0</td>\n",
              "      <td>1.910091</td>\n",
              "    </tr>\n",
              "  </tbody>\n",
              "</table>\n",
              "<p>100 rows × 24 columns</p>\n",
              "</div>\n",
              "      <button class=\"colab-df-convert\" onclick=\"convertToInteractive('df-e54a7b44-6b66-4fb2-9628-7e1343c8aa95')\"\n",
              "              title=\"Convert this dataframe to an interactive table.\"\n",
              "              style=\"display:none;\">\n",
              "        \n",
              "  <svg xmlns=\"http://www.w3.org/2000/svg\" height=\"24px\"viewBox=\"0 0 24 24\"\n",
              "       width=\"24px\">\n",
              "    <path d=\"M0 0h24v24H0V0z\" fill=\"none\"/>\n",
              "    <path d=\"M18.56 5.44l.94 2.06.94-2.06 2.06-.94-2.06-.94-.94-2.06-.94 2.06-2.06.94zm-11 1L8.5 8.5l.94-2.06 2.06-.94-2.06-.94L8.5 2.5l-.94 2.06-2.06.94zm10 10l.94 2.06.94-2.06 2.06-.94-2.06-.94-.94-2.06-.94 2.06-2.06.94z\"/><path d=\"M17.41 7.96l-1.37-1.37c-.4-.4-.92-.59-1.43-.59-.52 0-1.04.2-1.43.59L10.3 9.45l-7.72 7.72c-.78.78-.78 2.05 0 2.83L4 21.41c.39.39.9.59 1.41.59.51 0 1.02-.2 1.41-.59l7.78-7.78 2.81-2.81c.8-.78.8-2.07 0-2.86zM5.41 20L4 18.59l7.72-7.72 1.47 1.35L5.41 20z\"/>\n",
              "  </svg>\n",
              "      </button>\n",
              "      \n",
              "  <style>\n",
              "    .colab-df-container {\n",
              "      display:flex;\n",
              "      flex-wrap:wrap;\n",
              "      gap: 12px;\n",
              "    }\n",
              "\n",
              "    .colab-df-convert {\n",
              "      background-color: #E8F0FE;\n",
              "      border: none;\n",
              "      border-radius: 50%;\n",
              "      cursor: pointer;\n",
              "      display: none;\n",
              "      fill: #1967D2;\n",
              "      height: 32px;\n",
              "      padding: 0 0 0 0;\n",
              "      width: 32px;\n",
              "    }\n",
              "\n",
              "    .colab-df-convert:hover {\n",
              "      background-color: #E2EBFA;\n",
              "      box-shadow: 0px 1px 2px rgba(60, 64, 67, 0.3), 0px 1px 3px 1px rgba(60, 64, 67, 0.15);\n",
              "      fill: #174EA6;\n",
              "    }\n",
              "\n",
              "    [theme=dark] .colab-df-convert {\n",
              "      background-color: #3B4455;\n",
              "      fill: #D2E3FC;\n",
              "    }\n",
              "\n",
              "    [theme=dark] .colab-df-convert:hover {\n",
              "      background-color: #434B5C;\n",
              "      box-shadow: 0px 1px 3px 1px rgba(0, 0, 0, 0.15);\n",
              "      filter: drop-shadow(0px 1px 2px rgba(0, 0, 0, 0.3));\n",
              "      fill: #FFFFFF;\n",
              "    }\n",
              "  </style>\n",
              "\n",
              "      <script>\n",
              "        const buttonEl =\n",
              "          document.querySelector('#df-e54a7b44-6b66-4fb2-9628-7e1343c8aa95 button.colab-df-convert');\n",
              "        buttonEl.style.display =\n",
              "          google.colab.kernel.accessAllowed ? 'block' : 'none';\n",
              "\n",
              "        async function convertToInteractive(key) {\n",
              "          const element = document.querySelector('#df-e54a7b44-6b66-4fb2-9628-7e1343c8aa95');\n",
              "          const dataTable =\n",
              "            await google.colab.kernel.invokeFunction('convertToInteractive',\n",
              "                                                     [key], {});\n",
              "          if (!dataTable) return;\n",
              "\n",
              "          const docLinkHtml = 'Like what you see? Visit the ' +\n",
              "            '<a target=\"_blank\" href=https://colab.research.google.com/notebooks/data_table.ipynb>data table notebook</a>'\n",
              "            + ' to learn more about interactive tables.';\n",
              "          element.innerHTML = '';\n",
              "          dataTable['output_type'] = 'display_data';\n",
              "          await google.colab.output.renderOutput(dataTable, element);\n",
              "          const docLink = document.createElement('div');\n",
              "          docLink.innerHTML = docLinkHtml;\n",
              "          element.appendChild(docLink);\n",
              "        }\n",
              "      </script>\n",
              "    </div>\n",
              "  </div>\n",
              "  "
            ]
          },
          "metadata": {},
          "execution_count": 63
        }
      ]
    },
    {
      "cell_type": "code",
      "source": [
        "new_data1.head()"
      ],
      "metadata": {
        "colab": {
          "base_uri": "https://localhost:8080/",
          "height": 334
        },
        "id": "aaFDgqmUBLtf",
        "outputId": "ca6096c3-3e33-46c3-e288-5ba63f5e0568"
      },
      "id": "aaFDgqmUBLtf",
      "execution_count": 52,
      "outputs": [
        {
          "output_type": "execute_result",
          "data": {
            "text/plain": [
              "        Country  Year  Life expectancy  Alcohol  Percentage expenditure  \\\n",
              "3   Afghanistan  2012             59.5     0.01               78.184215   \n",
              "15  Afghanistan  2000             54.8     0.01               10.424960   \n",
              "19      Albania  2012             76.9     5.14              412.443356   \n",
              "31      Albania  2000             72.6     3.66               91.711541   \n",
              "34      Algeria  2012             75.1     0.66              555.926083   \n",
              "\n",
              "            Gdp  Population  Schooling  2000  2001  ...  2007  2008  2009  \\\n",
              "3    669.959000   3696958.0        9.8   0.0   0.0  ...   0.0   0.0   0.0   \n",
              "15   114.560000    293756.0        5.5   1.0   0.0  ...   0.0   0.0   0.0   \n",
              "19  4247.614380      2941.0       14.2   0.0   0.0  ...   0.0   0.0   0.0   \n",
              "31  1175.788981     38927.0       10.7   1.0   0.0  ...   0.0   0.0   0.0   \n",
              "34  5564.825660  37565847.0       14.4   0.0   0.0  ...   0.0   0.0   0.0   \n",
              "\n",
              "    2010  2011  2012  2013  2014  Developing  logarithm of life expectancy  \n",
              "3    0.0   0.0   1.0   0.0   0.0         1.0                      1.774517  \n",
              "15   0.0   0.0   0.0   0.0   0.0         1.0                      1.738781  \n",
              "19   0.0   0.0   1.0   0.0   0.0         1.0                      1.885926  \n",
              "31   0.0   0.0   0.0   0.0   0.0         1.0                      1.860937  \n",
              "34   0.0   0.0   1.0   0.0   0.0         1.0                      1.875640  \n",
              "\n",
              "[5 rows x 25 columns]"
            ],
            "text/html": [
              "\n",
              "  <div id=\"df-9ad50186-c7ba-4b24-aee4-e3e368b3d6df\">\n",
              "    <div class=\"colab-df-container\">\n",
              "      <div>\n",
              "<style scoped>\n",
              "    .dataframe tbody tr th:only-of-type {\n",
              "        vertical-align: middle;\n",
              "    }\n",
              "\n",
              "    .dataframe tbody tr th {\n",
              "        vertical-align: top;\n",
              "    }\n",
              "\n",
              "    .dataframe thead th {\n",
              "        text-align: right;\n",
              "    }\n",
              "</style>\n",
              "<table border=\"1\" class=\"dataframe\">\n",
              "  <thead>\n",
              "    <tr style=\"text-align: right;\">\n",
              "      <th></th>\n",
              "      <th>Country</th>\n",
              "      <th>Year</th>\n",
              "      <th>Life expectancy</th>\n",
              "      <th>Alcohol</th>\n",
              "      <th>Percentage expenditure</th>\n",
              "      <th>Gdp</th>\n",
              "      <th>Population</th>\n",
              "      <th>Schooling</th>\n",
              "      <th>2000</th>\n",
              "      <th>2001</th>\n",
              "      <th>...</th>\n",
              "      <th>2007</th>\n",
              "      <th>2008</th>\n",
              "      <th>2009</th>\n",
              "      <th>2010</th>\n",
              "      <th>2011</th>\n",
              "      <th>2012</th>\n",
              "      <th>2013</th>\n",
              "      <th>2014</th>\n",
              "      <th>Developing</th>\n",
              "      <th>logarithm of life expectancy</th>\n",
              "    </tr>\n",
              "  </thead>\n",
              "  <tbody>\n",
              "    <tr>\n",
              "      <th>3</th>\n",
              "      <td>Afghanistan</td>\n",
              "      <td>2012</td>\n",
              "      <td>59.5</td>\n",
              "      <td>0.01</td>\n",
              "      <td>78.184215</td>\n",
              "      <td>669.959000</td>\n",
              "      <td>3696958.0</td>\n",
              "      <td>9.8</td>\n",
              "      <td>0.0</td>\n",
              "      <td>0.0</td>\n",
              "      <td>...</td>\n",
              "      <td>0.0</td>\n",
              "      <td>0.0</td>\n",
              "      <td>0.0</td>\n",
              "      <td>0.0</td>\n",
              "      <td>0.0</td>\n",
              "      <td>1.0</td>\n",
              "      <td>0.0</td>\n",
              "      <td>0.0</td>\n",
              "      <td>1.0</td>\n",
              "      <td>1.774517</td>\n",
              "    </tr>\n",
              "    <tr>\n",
              "      <th>15</th>\n",
              "      <td>Afghanistan</td>\n",
              "      <td>2000</td>\n",
              "      <td>54.8</td>\n",
              "      <td>0.01</td>\n",
              "      <td>10.424960</td>\n",
              "      <td>114.560000</td>\n",
              "      <td>293756.0</td>\n",
              "      <td>5.5</td>\n",
              "      <td>1.0</td>\n",
              "      <td>0.0</td>\n",
              "      <td>...</td>\n",
              "      <td>0.0</td>\n",
              "      <td>0.0</td>\n",
              "      <td>0.0</td>\n",
              "      <td>0.0</td>\n",
              "      <td>0.0</td>\n",
              "      <td>0.0</td>\n",
              "      <td>0.0</td>\n",
              "      <td>0.0</td>\n",
              "      <td>1.0</td>\n",
              "      <td>1.738781</td>\n",
              "    </tr>\n",
              "    <tr>\n",
              "      <th>19</th>\n",
              "      <td>Albania</td>\n",
              "      <td>2012</td>\n",
              "      <td>76.9</td>\n",
              "      <td>5.14</td>\n",
              "      <td>412.443356</td>\n",
              "      <td>4247.614380</td>\n",
              "      <td>2941.0</td>\n",
              "      <td>14.2</td>\n",
              "      <td>0.0</td>\n",
              "      <td>0.0</td>\n",
              "      <td>...</td>\n",
              "      <td>0.0</td>\n",
              "      <td>0.0</td>\n",
              "      <td>0.0</td>\n",
              "      <td>0.0</td>\n",
              "      <td>0.0</td>\n",
              "      <td>1.0</td>\n",
              "      <td>0.0</td>\n",
              "      <td>0.0</td>\n",
              "      <td>1.0</td>\n",
              "      <td>1.885926</td>\n",
              "    </tr>\n",
              "    <tr>\n",
              "      <th>31</th>\n",
              "      <td>Albania</td>\n",
              "      <td>2000</td>\n",
              "      <td>72.6</td>\n",
              "      <td>3.66</td>\n",
              "      <td>91.711541</td>\n",
              "      <td>1175.788981</td>\n",
              "      <td>38927.0</td>\n",
              "      <td>10.7</td>\n",
              "      <td>1.0</td>\n",
              "      <td>0.0</td>\n",
              "      <td>...</td>\n",
              "      <td>0.0</td>\n",
              "      <td>0.0</td>\n",
              "      <td>0.0</td>\n",
              "      <td>0.0</td>\n",
              "      <td>0.0</td>\n",
              "      <td>0.0</td>\n",
              "      <td>0.0</td>\n",
              "      <td>0.0</td>\n",
              "      <td>1.0</td>\n",
              "      <td>1.860937</td>\n",
              "    </tr>\n",
              "    <tr>\n",
              "      <th>34</th>\n",
              "      <td>Algeria</td>\n",
              "      <td>2012</td>\n",
              "      <td>75.1</td>\n",
              "      <td>0.66</td>\n",
              "      <td>555.926083</td>\n",
              "      <td>5564.825660</td>\n",
              "      <td>37565847.0</td>\n",
              "      <td>14.4</td>\n",
              "      <td>0.0</td>\n",
              "      <td>0.0</td>\n",
              "      <td>...</td>\n",
              "      <td>0.0</td>\n",
              "      <td>0.0</td>\n",
              "      <td>0.0</td>\n",
              "      <td>0.0</td>\n",
              "      <td>0.0</td>\n",
              "      <td>1.0</td>\n",
              "      <td>0.0</td>\n",
              "      <td>0.0</td>\n",
              "      <td>1.0</td>\n",
              "      <td>1.875640</td>\n",
              "    </tr>\n",
              "  </tbody>\n",
              "</table>\n",
              "<p>5 rows × 25 columns</p>\n",
              "</div>\n",
              "      <button class=\"colab-df-convert\" onclick=\"convertToInteractive('df-9ad50186-c7ba-4b24-aee4-e3e368b3d6df')\"\n",
              "              title=\"Convert this dataframe to an interactive table.\"\n",
              "              style=\"display:none;\">\n",
              "        \n",
              "  <svg xmlns=\"http://www.w3.org/2000/svg\" height=\"24px\"viewBox=\"0 0 24 24\"\n",
              "       width=\"24px\">\n",
              "    <path d=\"M0 0h24v24H0V0z\" fill=\"none\"/>\n",
              "    <path d=\"M18.56 5.44l.94 2.06.94-2.06 2.06-.94-2.06-.94-.94-2.06-.94 2.06-2.06.94zm-11 1L8.5 8.5l.94-2.06 2.06-.94-2.06-.94L8.5 2.5l-.94 2.06-2.06.94zm10 10l.94 2.06.94-2.06 2.06-.94-2.06-.94-.94-2.06-.94 2.06-2.06.94z\"/><path d=\"M17.41 7.96l-1.37-1.37c-.4-.4-.92-.59-1.43-.59-.52 0-1.04.2-1.43.59L10.3 9.45l-7.72 7.72c-.78.78-.78 2.05 0 2.83L4 21.41c.39.39.9.59 1.41.59.51 0 1.02-.2 1.41-.59l7.78-7.78 2.81-2.81c.8-.78.8-2.07 0-2.86zM5.41 20L4 18.59l7.72-7.72 1.47 1.35L5.41 20z\"/>\n",
              "  </svg>\n",
              "      </button>\n",
              "      \n",
              "  <style>\n",
              "    .colab-df-container {\n",
              "      display:flex;\n",
              "      flex-wrap:wrap;\n",
              "      gap: 12px;\n",
              "    }\n",
              "\n",
              "    .colab-df-convert {\n",
              "      background-color: #E8F0FE;\n",
              "      border: none;\n",
              "      border-radius: 50%;\n",
              "      cursor: pointer;\n",
              "      display: none;\n",
              "      fill: #1967D2;\n",
              "      height: 32px;\n",
              "      padding: 0 0 0 0;\n",
              "      width: 32px;\n",
              "    }\n",
              "\n",
              "    .colab-df-convert:hover {\n",
              "      background-color: #E2EBFA;\n",
              "      box-shadow: 0px 1px 2px rgba(60, 64, 67, 0.3), 0px 1px 3px 1px rgba(60, 64, 67, 0.15);\n",
              "      fill: #174EA6;\n",
              "    }\n",
              "\n",
              "    [theme=dark] .colab-df-convert {\n",
              "      background-color: #3B4455;\n",
              "      fill: #D2E3FC;\n",
              "    }\n",
              "\n",
              "    [theme=dark] .colab-df-convert:hover {\n",
              "      background-color: #434B5C;\n",
              "      box-shadow: 0px 1px 3px 1px rgba(0, 0, 0, 0.15);\n",
              "      filter: drop-shadow(0px 1px 2px rgba(0, 0, 0, 0.3));\n",
              "      fill: #FFFFFF;\n",
              "    }\n",
              "  </style>\n",
              "\n",
              "      <script>\n",
              "        const buttonEl =\n",
              "          document.querySelector('#df-9ad50186-c7ba-4b24-aee4-e3e368b3d6df button.colab-df-convert');\n",
              "        buttonEl.style.display =\n",
              "          google.colab.kernel.accessAllowed ? 'block' : 'none';\n",
              "\n",
              "        async function convertToInteractive(key) {\n",
              "          const element = document.querySelector('#df-9ad50186-c7ba-4b24-aee4-e3e368b3d6df');\n",
              "          const dataTable =\n",
              "            await google.colab.kernel.invokeFunction('convertToInteractive',\n",
              "                                                     [key], {});\n",
              "          if (!dataTable) return;\n",
              "\n",
              "          const docLinkHtml = 'Like what you see? Visit the ' +\n",
              "            '<a target=\"_blank\" href=https://colab.research.google.com/notebooks/data_table.ipynb>data table notebook</a>'\n",
              "            + ' to learn more about interactive tables.';\n",
              "          element.innerHTML = '';\n",
              "          dataTable['output_type'] = 'display_data';\n",
              "          await google.colab.output.renderOutput(dataTable, element);\n",
              "          const docLink = document.createElement('div');\n",
              "          docLink.innerHTML = docLinkHtml;\n",
              "          element.appendChild(docLink);\n",
              "        }\n",
              "      </script>\n",
              "    </div>\n",
              "  </div>\n",
              "  "
            ]
          },
          "metadata": {},
          "execution_count": 52
        }
      ]
    },
    {
      "cell_type": "code",
      "execution_count": 48,
      "id": "cd095c90",
      "metadata": {
        "id": "cd095c90",
        "colab": {
          "base_uri": "https://localhost:8080/",
          "height": 335
        },
        "outputId": "458f3b83-cfc6-467f-c3fe-d5dd386f2eff"
      },
      "outputs": [
        {
          "output_type": "execute_result",
          "data": {
            "text/plain": [
              "array([<matplotlib.axes._subplots.AxesSubplot object at 0x7f448e57f210>,\n",
              "       <matplotlib.axes._subplots.AxesSubplot object at 0x7f448e5457d0>],\n",
              "      dtype=object)"
            ]
          },
          "metadata": {},
          "execution_count": 48
        },
        {
          "output_type": "display_data",
          "data": {
            "text/plain": [
              "<Figure size 432x288 with 2 Axes>"
            ],
            "image/png": "[encoded data removed]"
          },
          "metadata": {}
        }
      ],
      "source": [
        "# YOUR CODE HERE\n",
        "new_data1=new_data[(new_data.Year == 2000) | (new_data.Year == 2012)]\n",
        "\n",
        "new_data1.hist(column=\"Life expectancy\",by='Year',)\n"
      ]
    },
    {
      "cell_type": "code",
      "execution_count": 132,
      "id": "b0c4359b",
      "metadata": {
        "id": "b0c4359b",
        "colab": {
          "base_uri": "https://localhost:8080/",
          "height": 282
        },
        "outputId": "684f8ed8-834c-4a30-d3b8-54e5dc10df8d"
      },
      "outputs": [
        {
          "output_type": "execute_result",
          "data": {
            "text/plain": [
              "<matplotlib.axes._subplots.AxesSubplot at 0x7f447ac27710>"
            ]
          },
          "metadata": {},
          "execution_count": 132
        },
        {
          "output_type": "display_data",
          "data": {
            "text/plain": [
              "<Figure size 432x288 with 1 Axes>"
            ],
            "image/png": "[encoded data removed]"
          },
          "metadata": {}
        }
      ],
      "source": [
        "# YOUR CODE HERE\n",
        "#Add the new column with the log\n",
        "new_data['logarithm of life expectancy'] = np.log10(new_data['Life expectancy'])\n",
        "#Generate the second histogram: 2000, but with the log\n",
        "new_data['logarithm of life expectancy'][(new_data.Year == 2000)].hist()\n"
      ]
    },
    {
      "cell_type": "markdown",
      "id": "de453534",
      "metadata": {
        "id": "de453534"
      },
      "source": [
        ">3.1.3. Create 3 pairplots with the log of life expectancy on the horizontal axis and on the vertical axis GDP, population, schooling. Which seems to be the best predictor?\n"
      ]
    },
    {
      "cell_type": "code",
      "execution_count": 60,
      "id": "791c3f2b",
      "metadata": {
        "id": "791c3f2b",
        "colab": {
          "base_uri": "https://localhost:8080/",
          "height": 215
        },
        "outputId": "9f23f634-ca4a-4a9c-da75-5bfe192090fb"
      },
      "outputs": [
        {
          "output_type": "execute_result",
          "data": {
            "text/plain": [
              "<seaborn.axisgrid.PairGrid at 0x7f447c3e6610>"
            ]
          },
          "metadata": {},
          "execution_count": 60
        },
        {
          "output_type": "display_data",
          "data": {
            "text/plain": [
              "<Figure size 540x180 with 3 Axes>"
            ],
            "image/png": "[encoded data removed]"
          },
          "metadata": {}
        }
      ],
      "source": [
        "import seaborn\n",
        "seaborn.pairplot(new_data,kind=\"reg\", y_vars=\"logarithm of life expectancy\",x_vars=[\"Gdp\",\"Population\",\"Schooling\"])"
      ]
    },
    {
      "cell_type": "markdown",
      "source": [
        "Schooling seems be the best predictor"
      ],
      "metadata": {
        "id": "YHWeSolZPDrG"
      },
      "id": "YHWeSolZPDrG"
    },
    {
      "cell_type": "markdown",
      "id": "26e59b86",
      "metadata": {
        "id": "26e59b86"
      },
      "source": [
        "## 3.2 Simple Linear Regression"
      ]
    },
    {
      "cell_type": "markdown",
      "id": "beb92990",
      "metadata": {
        "id": "beb92990"
      },
      "source": [
        ">3.2.1 Drop the feature \"Year\", since we have hot-encoded it. Regress, using the library `sklearn`, log of life expectancy on Alcohol, gdp, population, percentage expenditure, schooling, Developing, and all the dummy variables for the years.\n",
        "> \n",
        ">Select the dependent (y) and the independent variables (X)."
      ]
    },
    {
      "cell_type": "code",
      "execution_count": 133,
      "id": "a66ac250",
      "metadata": {
        "id": "a66ac250",
        "colab": {
          "base_uri": "https://localhost:8080/",
          "height": 200
        },
        "outputId": "c4573075-eb8b-45cc-9a9f-b00d6e0107d1"
      },
      "outputs": [
        {
          "output_type": "error",
          "ename": "NameError",
          "evalue": "ignored",
          "traceback": [
            "\u001b[0;31m---------------------------------------------------------------------------\u001b[0m",
            "\u001b[0;31mNameError\u001b[0m                                 Traceback (most recent call last)",
            "\u001b[0;32m<ipython-input-133-504b6486e4ec>\u001b[0m in \u001b[0;36m<module>\u001b[0;34m\u001b[0m\n\u001b[1;32m      1\u001b[0m \u001b[0mnew_data\u001b[0m\u001b[0;34m=\u001b[0m\u001b[0mnew_data\u001b[0m\u001b[0;34m.\u001b[0m\u001b[0mdrop\u001b[0m\u001b[0;34m(\u001b[0m\u001b[0mcolumns\u001b[0m\u001b[0;34m=\u001b[0m\u001b[0;34m\"Year\"\u001b[0m\u001b[0;34m)\u001b[0m\u001b[0;34m\u001b[0m\u001b[0;34m\u001b[0m\u001b[0m\n\u001b[0;32m----> 2\u001b[0;31m \u001b[0mX\u001b[0m\u001b[0;34m=\u001b[0m\u001b[0mnd\u001b[0m\u001b[0;34m[\u001b[0m\u001b[0;34m\"Gdp\"\u001b[0m\u001b[0;34m,\u001b[0m\u001b[0;34m\"Percentage expenditure\"\u001b[0m\u001b[0;34m,\u001b[0m\u001b[0;34m\"logarithm of life expectancy\"\u001b[0m\u001b[0;34m]\u001b[0m\u001b[0;34m\u001b[0m\u001b[0;34m\u001b[0m\u001b[0m\n\u001b[0m\u001b[1;32m      3\u001b[0m \u001b[0my\u001b[0m\u001b[0;34m=\u001b[0m\u001b[0mnd\u001b[0m\u001b[0;34m[\u001b[0m\u001b[0;34m\"Population\"\u001b[0m\u001b[0;34m,\u001b[0m\u001b[0;34m\"Schooling\"\u001b[0m\u001b[0;34m,\u001b[0m\u001b[0;34m\"Developing\"\u001b[0m\u001b[0;34m]\u001b[0m\u001b[0;34m\u001b[0m\u001b[0;34m\u001b[0m\u001b[0m\n",
            "\u001b[0;31mNameError\u001b[0m: name 'nd' is not defined"
          ]
        }
      ],
      "source": [
        "new_data=new_data.drop(columns=\"Year\")\n",
        "X=nd[\"Gdp\",\"Percentage expenditure\",\"logarithm of life expectancy\"]\n",
        "y=nd[\"Population\",\"Schooling\",\"Developing\"]"
      ]
    },
    {
      "cell_type": "markdown",
      "id": "f0fcc79d",
      "metadata": {
        "id": "f0fcc79d"
      },
      "source": [
        ">3.2.2 Split your dataset into a training set (80%) and a test set (20%). Use sklearn.model_selection.train_test_split() and set the **random_state to 42.**"
      ]
    },
    {
      "cell_type": "code",
      "execution_count": 130,
      "id": "a9ab982a",
      "metadata": {
        "id": "a9ab982a",
        "colab": {
          "base_uri": "https://localhost:8080/",
          "height": 147
        },
        "outputId": "5f5be37f-bbb3-4b80-ab38-e79c849e6436"
      },
      "outputs": [
        {
          "output_type": "error",
          "ename": "SyntaxError",
          "evalue": "ignored",
          "traceback": [
            "\u001b[0;36m  File \u001b[0;32m\"<ipython-input-130-cd4efeff5125>\"\u001b[0;36m, line \u001b[0;32m5\u001b[0m\n\u001b[0;31m    X_train, X_test, y_train, y_test=sklearn.model_selection.train_test_split(X,y, test size=0.2, train_size=0.8,random_state=42)\u001b[0m\n\u001b[0m                                                                                           ^\u001b[0m\n\u001b[0;31mSyntaxError\u001b[0m\u001b[0;31m:\u001b[0m invalid syntax\n"
          ]
        }
      ],
      "source": [
        "# YOUR CODE HERE\n",
        "import sklearn\n",
        "from sklearn.model_selection import train_test_split\n",
        "\n",
        "X_train, X_test, y_train, y_test=sklearn.model_selection.train_test_split(X,y, test size=0.2, train_size=0.8,random_state=42)"
      ]
    },
    {
      "cell_type": "markdown",
      "id": "32987cf8",
      "metadata": {
        "id": "32987cf8"
      },
      "source": [
        ">3.2.3 Train a linear regression model on the training data. What is the R^2 score for the test data?"
      ]
    },
    {
      "cell_type": "code",
      "execution_count": null,
      "id": "ba053d77",
      "metadata": {
        "id": "ba053d77"
      },
      "outputs": [],
      "source": [
        "from sklearn.linear_model import LinearRegression\n",
        "from sklearn.metrics import mean_absolute_error, r2_score\n",
        "model=LinearRegression()\n",
        "model.fit(X,y)\n",
        "predicted_values=model.predict(X)\n",
        "r2=r2_score(y,predicted_values)\n",
        "\n",
        "print(\"R¨2%.2f\"% r2)\n"
      ]
    },
    {
      "cell_type": "markdown",
      "id": "33aae726",
      "metadata": {
        "id": "33aae726"
      },
      "source": [
        ">3.2.4. Predict what would be the life expectancy of a (very small) country with an Alcohol consumption of 5 liters, GDP per capita of 800 dollars, a population of 300 individuals, 62 as percentage expenditure, 8 as schooling in year 2000. It is not a developing country."
      ]
    },
    {
      "cell_type": "code",
      "execution_count": null,
      "id": "9e5fda51",
      "metadata": {
        "id": "9e5fda51"
      },
      "outputs": [],
      "source": [
        "# YOUR CODE HERE"
      ]
    },
    {
      "cell_type": "markdown",
      "id": "0ed88806",
      "metadata": {
        "id": "0ed88806"
      },
      "source": [
        "## 3.3 Linear Regression with Standardization"
      ]
    },
    {
      "cell_type": "markdown",
      "id": "0ed3ea98",
      "metadata": {
        "id": "0ed3ea98"
      },
      "source": [
        "> 3.3.1. Apply a standard scaler to the following columns: Alcohol, gdp, population, percentage expenditure, schooling\n",
        "> \n",
        "> Hint: use the scaler on the already split data. Fit-transform the scaler on X_train and apply transform on X_test."
      ]
    },
    {
      "cell_type": "code",
      "execution_count": null,
      "id": "cac99fa4",
      "metadata": {
        "id": "cac99fa4"
      },
      "outputs": [],
      "source": [
        "# YOUR CODE HERE"
      ]
    },
    {
      "cell_type": "markdown",
      "id": "eb211204",
      "metadata": {
        "id": "eb211204"
      },
      "source": [
        "> 3.3.2 Train a linear regression model with the standardised data. What is the R^2 score for the test data?"
      ]
    },
    {
      "cell_type": "code",
      "execution_count": null,
      "id": "bef7cbfd",
      "metadata": {
        "id": "bef7cbfd"
      },
      "outputs": [],
      "source": [
        "# YOUR CODE HERE\n"
      ]
    },
    {
      "cell_type": "markdown",
      "id": "7ae1b9d5",
      "metadata": {
        "id": "7ae1b9d5"
      },
      "source": [
        "> 3.3.3 With the new model, predict, as before, what would be the life expectancy of a (very small) country with an Alcohol consumption of 5 liters, GDP per capita of 800 dollars, a population of 300 individuals, 62 as percentage expenditure, 8 as schooling in year 2000. It is not a developing country."
      ]
    },
    {
      "cell_type": "code",
      "execution_count": null,
      "id": "71804228",
      "metadata": {
        "id": "71804228"
      },
      "outputs": [],
      "source": [
        "# YOUR CODE HERE"
      ]
    },
    {
      "cell_type": "markdown",
      "id": "d921b338",
      "metadata": {
        "id": "d921b338"
      },
      "source": [
        ">3.3.4 Looking at the coefficients from the linear regression with standardization, identify which variable is the one with the strongest impact on the dependent variable."
      ]
    },
    {
      "cell_type": "code",
      "execution_count": null,
      "id": "24bd6a35",
      "metadata": {
        "id": "24bd6a35"
      },
      "outputs": [],
      "source": [
        "# YOUR CODE HERE"
      ]
    },
    {
      "cell_type": "markdown",
      "id": "a3ee367e",
      "metadata": {
        "id": "a3ee367e"
      },
      "source": [
        "> 3.3.5 Calculate the adjusted R-squared and identify the optimum regression coefficients using linear regression with standardisation. \n",
        ">\n",
        "> Hint: calculate the adjusted R-squared for the full model with linear regression and standardisation (as above). The try dropping either one of the columns: `GDP`, `Population` and all the year features and recalculate adjusted R-squared for every new model. Identify which combination of features gives the highest adjusted R-squared. \n",
        ">\n",
        ">Check out this documentation file on the [adjusted R-squared](https://www.statology.org/adjusted-r-squared-in-python/).\n",
        ">\n",
        "> Remember to use 42 as the **random_state**"
      ]
    },
    {
      "cell_type": "code",
      "execution_count": null,
      "id": "e3de67a1",
      "metadata": {
        "id": "e3de67a1"
      },
      "outputs": [],
      "source": [
        "# YOUR CODE HERE\n"
      ]
    },
    {
      "cell_type": "markdown",
      "id": "aae8c757",
      "metadata": {
        "id": "aae8c757"
      },
      "source": [
        ">3.3.6 Train the model when you drop `GDP` and calculate the adjusted R-squared."
      ]
    },
    {
      "cell_type": "code",
      "execution_count": null,
      "id": "1557cf4b",
      "metadata": {
        "id": "1557cf4b"
      },
      "outputs": [],
      "source": [
        "# YOUR CODE HERE"
      ]
    },
    {
      "cell_type": "markdown",
      "id": "7a82f734",
      "metadata": {
        "id": "7a82f734"
      },
      "source": [
        "> 3.3.7 Train the model when you drop `Population` and calculate the adjusted R-squared. Pay attention: you only need to drop `Population`, you need `GDP` back in there."
      ]
    },
    {
      "cell_type": "code",
      "execution_count": null,
      "id": "51c6e10f",
      "metadata": {
        "id": "51c6e10f"
      },
      "outputs": [],
      "source": [
        "# YOUR CODE HERE"
      ]
    },
    {
      "cell_type": "markdown",
      "id": "332e6b7e",
      "metadata": {
        "id": "332e6b7e"
      },
      "source": [
        ">3.3.8 Train the model when you drop all the year features and calculate the adjusted R-squared. Pay attention: you only need to drop all the year features, you need `GDP` and `Population` back in there. "
      ]
    },
    {
      "cell_type": "code",
      "execution_count": null,
      "id": "552b76da",
      "metadata": {
        "id": "552b76da"
      },
      "outputs": [],
      "source": [
        "# YOUR CODE HERE"
      ]
    }
  ],
  "metadata": {
    "kernelspec": {
      "display_name": "Python 3",
      "language": "python",
      "name": "python3"
    },
    "language_info": {
      "codemirror_mode": {
        "name": "ipython",
        "version": 3
      },
      "file_extension": ".py",
      "mimetype": "text/x-python",
      "name": "python",
      "nbconvert_exporter": "python",
      "pygments_lexer": "ipython3",
      "version": "3.8.8"
    },
    "toc": {
      "base_numbering": 1,
      "nav_menu": {},
      "number_sections": false,
      "sideBar": true,
      "skip_h1_title": true,
      "title_cell": "Table of Contents",
      "title_sidebar": "Contents",
      "toc_cell": false,
      "toc_position": {
        "height": "calc(100% - 180px)",
        "left": "10px",
        "top": "150px",
        "width": "288px"
      },
      "toc_section_display": true,
      "toc_window_display": false
    },
    "colab": {
      "provenance": [],
      "collapsed_sections": [],
      "include_colab_link": true
    }
  },
  "nbformat": 4,
  "nbformat_minor": 5
}